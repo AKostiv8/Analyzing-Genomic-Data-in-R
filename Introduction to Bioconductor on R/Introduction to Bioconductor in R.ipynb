{
 "cells": [
  {
   "cell_type": "markdown",
   "metadata": {},
   "source": [
    "# Introduction to Bioconductor in R"
   ]
  },
  {
   "cell_type": "markdown",
   "metadata": {},
   "source": [
    "<img src=\"https://secure.meetupstatic.com/photos/event/4/3/8/7/600_468917287.jpeg\">"
   ]
  },
  {
   "cell_type": "markdown",
   "metadata": {},
   "source": [
    "## 1. What is Bioconductor?"
   ]
  },
  {
   "cell_type": "markdown",
   "metadata": {},
   "source": [
    "<p>In this paragraph we will get hands-on with Bioconductor. Bioconductor is the specialized repository for bioinformatics software, developed and maintained by the R community. We will learn how to install and use bioconductor packages. We will be introduced to S4 objects and functions, because most packages within Bioconductor inherit from S4. Additionally, we will use a real genomic dataset of a fungus to explore the BSgenome package.</p>"
   ]
  },
  {
   "cell_type": "markdown",
   "metadata": {},
   "source": [
    "<p>Biconductor has its own repository, way to install packages, and each release is designed to work with a specific version of R.</p>"
   ]
  },
  {
   "cell_type": "markdown",
   "metadata": {},
   "source": [
    "<h4>R version:</h4>"
   ]
  },
  {
   "cell_type": "code",
   "execution_count": 45,
   "metadata": {},
   "outputs": [
    {
     "data": {
      "text/plain": [
       "               _                           \n",
       "platform       x86_64-apple-darwin15.6.0   \n",
       "arch           x86_64                      \n",
       "os             darwin15.6.0                \n",
       "system         x86_64, darwin15.6.0        \n",
       "status                                     \n",
       "major          3                           \n",
       "minor          6.1                         \n",
       "year           2019                        \n",
       "month          07                          \n",
       "day            05                          \n",
       "svn rev        76782                       \n",
       "language       R                           \n",
       "version.string R version 3.6.1 (2019-07-05)\n",
       "nickname       Action of the Toes          "
      ]
     },
     "metadata": {},
     "output_type": "display_data"
    }
   ],
   "source": [
    "version"
   ]
  },
  {
   "cell_type": "markdown",
   "metadata": {},
   "source": [
    "<h4>Installing BioConductor, version 3.10</h4>"
   ]
  },
  {
   "cell_type": "code",
   "execution_count": 1,
   "metadata": {},
   "outputs": [
    {
     "name": "stderr",
     "output_type": "stream",
     "text": [
      "Loading required namespace: BiocManager\n",
      "\n",
      "Bioconductor version 3.10 (BiocManager 1.30.10), R 3.6.1 (2019-07-05)\n",
      "\n",
      "Old packages: 'Hmisc', 'MASS', 'RcppArmadillo', 'backports', 'bit64', 'callr',\n",
      "  'conquer', 'cowplot', 'cpp11', 'data.table', 'dendextend', 'dplyr', 'glue',\n",
      "  'h2o', 'jsonlite', 'lmtest', 'maptools', 'mgcv', 'nlme', 'processx', 'ps',\n",
      "  'quantreg', 'questionr', 'rgeos', 'sf', 'stringi', 'systemfonts', 'tidyr',\n",
      "  'vctrs', 'xfun', 'xts'\n",
      "\n"
     ]
    }
   ],
   "source": [
    "if (!requireNamespace(\"BiocManager\"))    \n",
    "    install.packages(\"BiocManager\")\n",
    "BiocManager::install()"
   ]
  },
  {
   "cell_type": "markdown",
   "metadata": {},
   "source": [
    "<h4>BiocManager to install packages</h4>"
   ]
  },
  {
   "cell_type": "code",
   "execution_count": 2,
   "metadata": {},
   "outputs": [
    {
     "name": "stderr",
     "output_type": "stream",
     "text": [
      "Bioconductor version 3.10 (BiocManager 1.30.10), R 3.6.1 (2019-07-05)\n",
      "\n",
      "Installing package(s) 'BSgenome'\n",
      "\n"
     ]
    },
    {
     "name": "stdout",
     "output_type": "stream",
     "text": [
      "\n",
      "The downloaded binary packages are in\n",
      "\t/var/folders/5j/91qghkgd3k387sfm9f5m0fym0000gn/T//Rtmpx2TDEe/downloaded_packages\n"
     ]
    },
    {
     "name": "stderr",
     "output_type": "stream",
     "text": [
      "Old packages: 'Hmisc', 'MASS', 'RcppArmadillo', 'backports', 'bit64', 'callr',\n",
      "  'conquer', 'cowplot', 'cpp11', 'data.table', 'dendextend', 'dplyr', 'glue',\n",
      "  'h2o', 'jsonlite', 'lmtest', 'maptools', 'mgcv', 'nlme', 'processx', 'ps',\n",
      "  'quantreg', 'questionr', 'rgeos', 'sf', 'stringi', 'systemfonts', 'tidyr',\n",
      "  'vctrs', 'xfun', 'xts'\n",
      "\n"
     ]
    }
   ],
   "source": [
    "BiocManager::install(\"BSgenome\")"
   ]
  },
  {
   "cell_type": "code",
   "execution_count": 3,
   "metadata": {},
   "outputs": [
    {
     "name": "stderr",
     "output_type": "stream",
     "text": [
      "Loading required package: BiocGenerics\n",
      "\n",
      "Loading required package: parallel\n",
      "\n",
      "\n",
      "Attaching package: ‘BiocGenerics’\n",
      "\n",
      "\n",
      "The following objects are masked from ‘package:parallel’:\n",
      "\n",
      "    clusterApply, clusterApplyLB, clusterCall, clusterEvalQ,\n",
      "    clusterExport, clusterMap, parApply, parCapply, parLapply,\n",
      "    parLapplyLB, parRapply, parSapply, parSapplyLB\n",
      "\n",
      "\n",
      "The following objects are masked from ‘package:stats’:\n",
      "\n",
      "    IQR, mad, sd, var, xtabs\n",
      "\n",
      "\n",
      "The following objects are masked from ‘package:base’:\n",
      "\n",
      "    Filter, Find, Map, Position, Reduce, anyDuplicated, append,\n",
      "    as.data.frame, basename, cbind, colnames, dirname, do.call,\n",
      "    duplicated, eval, evalq, get, grep, grepl, intersect, is.unsorted,\n",
      "    lapply, mapply, match, mget, order, paste, pmax, pmax.int, pmin,\n",
      "    pmin.int, rank, rbind, rownames, sapply, setdiff, sort, table,\n",
      "    tapply, union, unique, unsplit, which, which.max, which.min\n",
      "\n",
      "\n",
      "Loading required package: S4Vectors\n",
      "\n",
      "Warning message:\n",
      "“package ‘S4Vectors’ was built under R version 3.6.3”\n",
      "Loading required package: stats4\n",
      "\n",
      "\n",
      "Attaching package: ‘S4Vectors’\n",
      "\n",
      "\n",
      "The following object is masked from ‘package:base’:\n",
      "\n",
      "    expand.grid\n",
      "\n",
      "\n",
      "Loading required package: IRanges\n",
      "\n",
      "Warning message:\n",
      "“package ‘IRanges’ was built under R version 3.6.2”\n",
      "Loading required package: GenomeInfoDb\n",
      "\n",
      "Warning message:\n",
      "“package ‘GenomeInfoDb’ was built under R version 3.6.3”\n",
      "Loading required package: GenomicRanges\n",
      "\n",
      "Loading required package: Biostrings\n",
      "\n",
      "Loading required package: XVector\n",
      "\n",
      "\n",
      "Attaching package: ‘Biostrings’\n",
      "\n",
      "\n",
      "The following object is masked from ‘package:base’:\n",
      "\n",
      "    strsplit\n",
      "\n",
      "\n",
      "Loading required package: rtracklayer\n",
      "\n"
     ]
    }
   ],
   "source": [
    "# Load the package\n",
    "library(BSgenome)"
   ]
  },
  {
   "cell_type": "code",
   "execution_count": 4,
   "metadata": {},
   "outputs": [
    {
     "data": {
      "text/plain": [
       "[1] ‘1.54.0’"
      ]
     },
     "metadata": {},
     "output_type": "display_data"
    }
   ],
   "source": [
    "# Check the version of the BSgenome package\n",
    "packageVersion(\"BSgenome\")"
   ]
  },
  {
   "cell_type": "markdown",
   "metadata": {},
   "source": [
    "<h3>S4 class definition</h3>"
   ]
  },
  {
   "cell_type": "markdown",
   "metadata": {},
   "source": [
    "<p> Check the <i>BSgenome</i> class results and find its parent classes <b>(Extends)</b> and the classes that inherit from it <b>(Subclasses)</b>.</p>"
   ]
  },
  {
   "cell_type": "code",
   "execution_count": 5,
   "metadata": {},
   "outputs": [
    {
     "name": "stdout",
     "output_type": "stream",
     "text": [
      "Class \"BSgenome\" [package \"BSgenome\"]\n",
      "\n",
      "Slots:\n",
      "                                                                     \n",
      "Name:               pkgname     single_sequences   multiple_sequences\n",
      "Class:            character OnDiskNamedSequences        RdaCollection\n",
      "                                                                     \n",
      "Name:            source_url        user_seqnames   injectSNPs_handler\n",
      "Class:            character            character    InjectSNPsHandler\n",
      "                                                                     \n",
      "Name:           .seqs_cache         .link_counts        nmask_per_seq\n",
      "Class:          environment          environment              integer\n",
      "                                                                     \n",
      "Name:                 masks             organism          common_name\n",
      "Class:        RdaCollection            character            character\n",
      "                                                                     \n",
      "Name:              provider     provider_version         release_date\n",
      "Class:            character            character            character\n",
      "                                                \n",
      "Name:          release_name              seqinfo\n",
      "Class:            character              Seqinfo\n",
      "\n",
      "Extends: \"GenomeDescription\"\n",
      "\n",
      "Known Subclasses: \"MaskedBSgenome\"\n"
     ]
    }
   ],
   "source": [
    "showClass(\"BSgenome\")"
   ]
  },
  {
   "cell_type": "markdown",
   "metadata": {},
   "source": [
    "<p> The <i>BSgenome</i> is a powerful class and inherits from <i>GenomeDescription</i>, which you will see later on, and has <i>MaskedBSgenome</i> as subclass.</p>"
   ]
  },
  {
   "cell_type": "markdown",
   "metadata": {},
   "source": [
    "<h3>Interaction with classes</h3>\n",
    "<p>Let's say we have an object called a_genome from class BSgenome. With a_genome, you can ask questions like these:</p>\n",
    "<code><span style=\"color:grey\"># What is a_genome's main class?\n",
    "class(a_genome)  # \"BSgenome\"\n",
    "-# What is a_genome's other classes?\n",
    "is(a_genome)  # \"BSgenome\", \"GenomeDescription\"\n",
    "-# Is a_genome an S4 representation?\n",
    "isS4(a_genome)  # TRUE</span>\n",
    "</code>\n",
    "<p>If you want to find out more about the <i>a_genome</i> object, you can use the accessor <i>show(a_genome)</i> or use other specific accessors from the list of <i>.S4methods(class = \"BSgenome\")</i>.</p>"
   ]
  },
  {
   "cell_type": "markdown",
   "metadata": {},
   "source": [
    "<h3>Discovering the Yeast genome</h3>"
   ]
  },
  {
   "cell_type": "code",
   "execution_count": 6,
   "metadata": {},
   "outputs": [
    {
     "data": {
      "text/html": [
       "<style>\n",
       ".list-inline {list-style: none; margin:0; padding: 0}\n",
       ".list-inline>li {display: inline-block}\n",
       ".list-inline>li:not(:last-child)::after {content: \"\\00b7\"; padding: 0 .5ex}\n",
       "</style>\n",
       "<ol class=list-inline><li>'BSgenome.Alyrata.JGI.v1'</li><li>'BSgenome.Amellifera.BeeBase.assembly4'</li><li>'BSgenome.Amellifera.UCSC.apiMel2'</li><li>'BSgenome.Amellifera.UCSC.apiMel2.masked'</li><li>'BSgenome.Aofficinalis.NCBI.V1'</li><li>'BSgenome.Athaliana.TAIR.04232008'</li><li>'BSgenome.Athaliana.TAIR.TAIR9'</li><li>'BSgenome.Btaurus.UCSC.bosTau3'</li><li>'BSgenome.Btaurus.UCSC.bosTau3.masked'</li><li>'BSgenome.Btaurus.UCSC.bosTau4'</li><li>'BSgenome.Btaurus.UCSC.bosTau4.masked'</li><li>'BSgenome.Btaurus.UCSC.bosTau6'</li><li>'BSgenome.Btaurus.UCSC.bosTau6.masked'</li><li>'BSgenome.Btaurus.UCSC.bosTau8'</li><li>'BSgenome.Btaurus.UCSC.bosTau9'</li><li>'BSgenome.Carietinum.NCBI.v1'</li><li>'BSgenome.Celegans.UCSC.ce10'</li><li>'BSgenome.Celegans.UCSC.ce11'</li><li>'BSgenome.Celegans.UCSC.ce2'</li><li>'BSgenome.Celegans.UCSC.ce6'</li><li>'BSgenome.Cfamiliaris.UCSC.canFam2'</li><li>'BSgenome.Cfamiliaris.UCSC.canFam2.masked'</li><li>'BSgenome.Cfamiliaris.UCSC.canFam3'</li><li>'BSgenome.Cfamiliaris.UCSC.canFam3.masked'</li><li>'BSgenome.Cjacchus.UCSC.calJac3'</li><li>'BSgenome.Dmelanogaster.UCSC.dm2'</li><li>'BSgenome.Dmelanogaster.UCSC.dm2.masked'</li><li>'BSgenome.Dmelanogaster.UCSC.dm3'</li><li>'BSgenome.Dmelanogaster.UCSC.dm3.masked'</li><li>'BSgenome.Dmelanogaster.UCSC.dm6'</li><li>'BSgenome.Drerio.UCSC.danRer10'</li><li>'BSgenome.Drerio.UCSC.danRer11'</li><li>'BSgenome.Drerio.UCSC.danRer5'</li><li>'BSgenome.Drerio.UCSC.danRer5.masked'</li><li>'BSgenome.Drerio.UCSC.danRer6'</li><li>'BSgenome.Drerio.UCSC.danRer6.masked'</li><li>'BSgenome.Drerio.UCSC.danRer7'</li><li>'BSgenome.Drerio.UCSC.danRer7.masked'</li><li>'BSgenome.Ecoli.NCBI.20080805'</li><li>'BSgenome.Gaculeatus.UCSC.gasAcu1'</li><li>'BSgenome.Gaculeatus.UCSC.gasAcu1.masked'</li><li>'BSgenome.Ggallus.UCSC.galGal3'</li><li>'BSgenome.Ggallus.UCSC.galGal3.masked'</li><li>'BSgenome.Ggallus.UCSC.galGal4'</li><li>'BSgenome.Ggallus.UCSC.galGal4.masked'</li><li>'BSgenome.Ggallus.UCSC.galGal5'</li><li>'BSgenome.Ggallus.UCSC.galGal6'</li><li>'BSgenome.Hsapiens.1000genomes.hs37d5'</li><li>'BSgenome.Hsapiens.NCBI.GRCh38'</li><li>'BSgenome.Hsapiens.UCSC.hg17'</li><li>'BSgenome.Hsapiens.UCSC.hg17.masked'</li><li>'BSgenome.Hsapiens.UCSC.hg18'</li><li>'BSgenome.Hsapiens.UCSC.hg18.masked'</li><li>'BSgenome.Hsapiens.UCSC.hg19'</li><li>'BSgenome.Hsapiens.UCSC.hg19.masked'</li><li>'BSgenome.Hsapiens.UCSC.hg38'</li><li>'BSgenome.Hsapiens.UCSC.hg38.masked'</li><li>'BSgenome.Mdomestica.UCSC.monDom5'</li><li>'BSgenome.Mfascicularis.NCBI.5.0'</li><li>'BSgenome.Mfuro.UCSC.musFur1'</li><li>'BSgenome.Mmulatta.UCSC.rheMac10'</li><li>'BSgenome.Mmulatta.UCSC.rheMac2'</li><li>'BSgenome.Mmulatta.UCSC.rheMac2.masked'</li><li>'BSgenome.Mmulatta.UCSC.rheMac3'</li><li>'BSgenome.Mmulatta.UCSC.rheMac3.masked'</li><li>'BSgenome.Mmulatta.UCSC.rheMac8'</li><li>'BSgenome.Mmusculus.UCSC.mm10'</li><li>'BSgenome.Mmusculus.UCSC.mm10.masked'</li><li>'BSgenome.Mmusculus.UCSC.mm8'</li><li>'BSgenome.Mmusculus.UCSC.mm8.masked'</li><li>'BSgenome.Mmusculus.UCSC.mm9'</li><li>'BSgenome.Mmusculus.UCSC.mm9.masked'</li><li>'BSgenome.Osativa.MSU.MSU7'</li><li>'BSgenome.Ptroglodytes.UCSC.panTro2'</li><li>'BSgenome.Ptroglodytes.UCSC.panTro2.masked'</li><li>'BSgenome.Ptroglodytes.UCSC.panTro3'</li><li>'BSgenome.Ptroglodytes.UCSC.panTro3.masked'</li><li>'BSgenome.Ptroglodytes.UCSC.panTro5'</li><li>'BSgenome.Ptroglodytes.UCSC.panTro6'</li><li>'BSgenome.Rnorvegicus.UCSC.rn4'</li><li>'BSgenome.Rnorvegicus.UCSC.rn4.masked'</li><li>'BSgenome.Rnorvegicus.UCSC.rn5'</li><li>'BSgenome.Rnorvegicus.UCSC.rn5.masked'</li><li>'BSgenome.Rnorvegicus.UCSC.rn6'</li><li>'BSgenome.Scerevisiae.UCSC.sacCer1'</li><li>'BSgenome.Scerevisiae.UCSC.sacCer2'</li><li>'BSgenome.Scerevisiae.UCSC.sacCer3'</li><li>'BSgenome.Sscrofa.UCSC.susScr11'</li><li>'BSgenome.Sscrofa.UCSC.susScr3'</li><li>'BSgenome.Sscrofa.UCSC.susScr3.masked'</li><li>'BSgenome.Tgondii.ToxoDB.7.0'</li><li>'BSgenome.Tguttata.UCSC.taeGut1'</li><li>'BSgenome.Tguttata.UCSC.taeGut1.masked'</li><li>'BSgenome.Tguttata.UCSC.taeGut2'</li><li>'BSgenome.Vvinifera.URGI.IGGP12Xv0'</li><li>'BSgenome.Vvinifera.URGI.IGGP12Xv2'</li><li>'BSgenome.Vvinifera.URGI.IGGP8X'</li></ol>\n"
      ],
      "text/latex": [
       "\\begin{enumerate*}\n",
       "\\item 'BSgenome.Alyrata.JGI.v1'\n",
       "\\item 'BSgenome.Amellifera.BeeBase.assembly4'\n",
       "\\item 'BSgenome.Amellifera.UCSC.apiMel2'\n",
       "\\item 'BSgenome.Amellifera.UCSC.apiMel2.masked'\n",
       "\\item 'BSgenome.Aofficinalis.NCBI.V1'\n",
       "\\item 'BSgenome.Athaliana.TAIR.04232008'\n",
       "\\item 'BSgenome.Athaliana.TAIR.TAIR9'\n",
       "\\item 'BSgenome.Btaurus.UCSC.bosTau3'\n",
       "\\item 'BSgenome.Btaurus.UCSC.bosTau3.masked'\n",
       "\\item 'BSgenome.Btaurus.UCSC.bosTau4'\n",
       "\\item 'BSgenome.Btaurus.UCSC.bosTau4.masked'\n",
       "\\item 'BSgenome.Btaurus.UCSC.bosTau6'\n",
       "\\item 'BSgenome.Btaurus.UCSC.bosTau6.masked'\n",
       "\\item 'BSgenome.Btaurus.UCSC.bosTau8'\n",
       "\\item 'BSgenome.Btaurus.UCSC.bosTau9'\n",
       "\\item 'BSgenome.Carietinum.NCBI.v1'\n",
       "\\item 'BSgenome.Celegans.UCSC.ce10'\n",
       "\\item 'BSgenome.Celegans.UCSC.ce11'\n",
       "\\item 'BSgenome.Celegans.UCSC.ce2'\n",
       "\\item 'BSgenome.Celegans.UCSC.ce6'\n",
       "\\item 'BSgenome.Cfamiliaris.UCSC.canFam2'\n",
       "\\item 'BSgenome.Cfamiliaris.UCSC.canFam2.masked'\n",
       "\\item 'BSgenome.Cfamiliaris.UCSC.canFam3'\n",
       "\\item 'BSgenome.Cfamiliaris.UCSC.canFam3.masked'\n",
       "\\item 'BSgenome.Cjacchus.UCSC.calJac3'\n",
       "\\item 'BSgenome.Dmelanogaster.UCSC.dm2'\n",
       "\\item 'BSgenome.Dmelanogaster.UCSC.dm2.masked'\n",
       "\\item 'BSgenome.Dmelanogaster.UCSC.dm3'\n",
       "\\item 'BSgenome.Dmelanogaster.UCSC.dm3.masked'\n",
       "\\item 'BSgenome.Dmelanogaster.UCSC.dm6'\n",
       "\\item 'BSgenome.Drerio.UCSC.danRer10'\n",
       "\\item 'BSgenome.Drerio.UCSC.danRer11'\n",
       "\\item 'BSgenome.Drerio.UCSC.danRer5'\n",
       "\\item 'BSgenome.Drerio.UCSC.danRer5.masked'\n",
       "\\item 'BSgenome.Drerio.UCSC.danRer6'\n",
       "\\item 'BSgenome.Drerio.UCSC.danRer6.masked'\n",
       "\\item 'BSgenome.Drerio.UCSC.danRer7'\n",
       "\\item 'BSgenome.Drerio.UCSC.danRer7.masked'\n",
       "\\item 'BSgenome.Ecoli.NCBI.20080805'\n",
       "\\item 'BSgenome.Gaculeatus.UCSC.gasAcu1'\n",
       "\\item 'BSgenome.Gaculeatus.UCSC.gasAcu1.masked'\n",
       "\\item 'BSgenome.Ggallus.UCSC.galGal3'\n",
       "\\item 'BSgenome.Ggallus.UCSC.galGal3.masked'\n",
       "\\item 'BSgenome.Ggallus.UCSC.galGal4'\n",
       "\\item 'BSgenome.Ggallus.UCSC.galGal4.masked'\n",
       "\\item 'BSgenome.Ggallus.UCSC.galGal5'\n",
       "\\item 'BSgenome.Ggallus.UCSC.galGal6'\n",
       "\\item 'BSgenome.Hsapiens.1000genomes.hs37d5'\n",
       "\\item 'BSgenome.Hsapiens.NCBI.GRCh38'\n",
       "\\item 'BSgenome.Hsapiens.UCSC.hg17'\n",
       "\\item 'BSgenome.Hsapiens.UCSC.hg17.masked'\n",
       "\\item 'BSgenome.Hsapiens.UCSC.hg18'\n",
       "\\item 'BSgenome.Hsapiens.UCSC.hg18.masked'\n",
       "\\item 'BSgenome.Hsapiens.UCSC.hg19'\n",
       "\\item 'BSgenome.Hsapiens.UCSC.hg19.masked'\n",
       "\\item 'BSgenome.Hsapiens.UCSC.hg38'\n",
       "\\item 'BSgenome.Hsapiens.UCSC.hg38.masked'\n",
       "\\item 'BSgenome.Mdomestica.UCSC.monDom5'\n",
       "\\item 'BSgenome.Mfascicularis.NCBI.5.0'\n",
       "\\item 'BSgenome.Mfuro.UCSC.musFur1'\n",
       "\\item 'BSgenome.Mmulatta.UCSC.rheMac10'\n",
       "\\item 'BSgenome.Mmulatta.UCSC.rheMac2'\n",
       "\\item 'BSgenome.Mmulatta.UCSC.rheMac2.masked'\n",
       "\\item 'BSgenome.Mmulatta.UCSC.rheMac3'\n",
       "\\item 'BSgenome.Mmulatta.UCSC.rheMac3.masked'\n",
       "\\item 'BSgenome.Mmulatta.UCSC.rheMac8'\n",
       "\\item 'BSgenome.Mmusculus.UCSC.mm10'\n",
       "\\item 'BSgenome.Mmusculus.UCSC.mm10.masked'\n",
       "\\item 'BSgenome.Mmusculus.UCSC.mm8'\n",
       "\\item 'BSgenome.Mmusculus.UCSC.mm8.masked'\n",
       "\\item 'BSgenome.Mmusculus.UCSC.mm9'\n",
       "\\item 'BSgenome.Mmusculus.UCSC.mm9.masked'\n",
       "\\item 'BSgenome.Osativa.MSU.MSU7'\n",
       "\\item 'BSgenome.Ptroglodytes.UCSC.panTro2'\n",
       "\\item 'BSgenome.Ptroglodytes.UCSC.panTro2.masked'\n",
       "\\item 'BSgenome.Ptroglodytes.UCSC.panTro3'\n",
       "\\item 'BSgenome.Ptroglodytes.UCSC.panTro3.masked'\n",
       "\\item 'BSgenome.Ptroglodytes.UCSC.panTro5'\n",
       "\\item 'BSgenome.Ptroglodytes.UCSC.panTro6'\n",
       "\\item 'BSgenome.Rnorvegicus.UCSC.rn4'\n",
       "\\item 'BSgenome.Rnorvegicus.UCSC.rn4.masked'\n",
       "\\item 'BSgenome.Rnorvegicus.UCSC.rn5'\n",
       "\\item 'BSgenome.Rnorvegicus.UCSC.rn5.masked'\n",
       "\\item 'BSgenome.Rnorvegicus.UCSC.rn6'\n",
       "\\item 'BSgenome.Scerevisiae.UCSC.sacCer1'\n",
       "\\item 'BSgenome.Scerevisiae.UCSC.sacCer2'\n",
       "\\item 'BSgenome.Scerevisiae.UCSC.sacCer3'\n",
       "\\item 'BSgenome.Sscrofa.UCSC.susScr11'\n",
       "\\item 'BSgenome.Sscrofa.UCSC.susScr3'\n",
       "\\item 'BSgenome.Sscrofa.UCSC.susScr3.masked'\n",
       "\\item 'BSgenome.Tgondii.ToxoDB.7.0'\n",
       "\\item 'BSgenome.Tguttata.UCSC.taeGut1'\n",
       "\\item 'BSgenome.Tguttata.UCSC.taeGut1.masked'\n",
       "\\item 'BSgenome.Tguttata.UCSC.taeGut2'\n",
       "\\item 'BSgenome.Vvinifera.URGI.IGGP12Xv0'\n",
       "\\item 'BSgenome.Vvinifera.URGI.IGGP12Xv2'\n",
       "\\item 'BSgenome.Vvinifera.URGI.IGGP8X'\n",
       "\\end{enumerate*}\n"
      ],
      "text/markdown": [
       "1. 'BSgenome.Alyrata.JGI.v1'\n",
       "2. 'BSgenome.Amellifera.BeeBase.assembly4'\n",
       "3. 'BSgenome.Amellifera.UCSC.apiMel2'\n",
       "4. 'BSgenome.Amellifera.UCSC.apiMel2.masked'\n",
       "5. 'BSgenome.Aofficinalis.NCBI.V1'\n",
       "6. 'BSgenome.Athaliana.TAIR.04232008'\n",
       "7. 'BSgenome.Athaliana.TAIR.TAIR9'\n",
       "8. 'BSgenome.Btaurus.UCSC.bosTau3'\n",
       "9. 'BSgenome.Btaurus.UCSC.bosTau3.masked'\n",
       "10. 'BSgenome.Btaurus.UCSC.bosTau4'\n",
       "11. 'BSgenome.Btaurus.UCSC.bosTau4.masked'\n",
       "12. 'BSgenome.Btaurus.UCSC.bosTau6'\n",
       "13. 'BSgenome.Btaurus.UCSC.bosTau6.masked'\n",
       "14. 'BSgenome.Btaurus.UCSC.bosTau8'\n",
       "15. 'BSgenome.Btaurus.UCSC.bosTau9'\n",
       "16. 'BSgenome.Carietinum.NCBI.v1'\n",
       "17. 'BSgenome.Celegans.UCSC.ce10'\n",
       "18. 'BSgenome.Celegans.UCSC.ce11'\n",
       "19. 'BSgenome.Celegans.UCSC.ce2'\n",
       "20. 'BSgenome.Celegans.UCSC.ce6'\n",
       "21. 'BSgenome.Cfamiliaris.UCSC.canFam2'\n",
       "22. 'BSgenome.Cfamiliaris.UCSC.canFam2.masked'\n",
       "23. 'BSgenome.Cfamiliaris.UCSC.canFam3'\n",
       "24. 'BSgenome.Cfamiliaris.UCSC.canFam3.masked'\n",
       "25. 'BSgenome.Cjacchus.UCSC.calJac3'\n",
       "26. 'BSgenome.Dmelanogaster.UCSC.dm2'\n",
       "27. 'BSgenome.Dmelanogaster.UCSC.dm2.masked'\n",
       "28. 'BSgenome.Dmelanogaster.UCSC.dm3'\n",
       "29. 'BSgenome.Dmelanogaster.UCSC.dm3.masked'\n",
       "30. 'BSgenome.Dmelanogaster.UCSC.dm6'\n",
       "31. 'BSgenome.Drerio.UCSC.danRer10'\n",
       "32. 'BSgenome.Drerio.UCSC.danRer11'\n",
       "33. 'BSgenome.Drerio.UCSC.danRer5'\n",
       "34. 'BSgenome.Drerio.UCSC.danRer5.masked'\n",
       "35. 'BSgenome.Drerio.UCSC.danRer6'\n",
       "36. 'BSgenome.Drerio.UCSC.danRer6.masked'\n",
       "37. 'BSgenome.Drerio.UCSC.danRer7'\n",
       "38. 'BSgenome.Drerio.UCSC.danRer7.masked'\n",
       "39. 'BSgenome.Ecoli.NCBI.20080805'\n",
       "40. 'BSgenome.Gaculeatus.UCSC.gasAcu1'\n",
       "41. 'BSgenome.Gaculeatus.UCSC.gasAcu1.masked'\n",
       "42. 'BSgenome.Ggallus.UCSC.galGal3'\n",
       "43. 'BSgenome.Ggallus.UCSC.galGal3.masked'\n",
       "44. 'BSgenome.Ggallus.UCSC.galGal4'\n",
       "45. 'BSgenome.Ggallus.UCSC.galGal4.masked'\n",
       "46. 'BSgenome.Ggallus.UCSC.galGal5'\n",
       "47. 'BSgenome.Ggallus.UCSC.galGal6'\n",
       "48. 'BSgenome.Hsapiens.1000genomes.hs37d5'\n",
       "49. 'BSgenome.Hsapiens.NCBI.GRCh38'\n",
       "50. 'BSgenome.Hsapiens.UCSC.hg17'\n",
       "51. 'BSgenome.Hsapiens.UCSC.hg17.masked'\n",
       "52. 'BSgenome.Hsapiens.UCSC.hg18'\n",
       "53. 'BSgenome.Hsapiens.UCSC.hg18.masked'\n",
       "54. 'BSgenome.Hsapiens.UCSC.hg19'\n",
       "55. 'BSgenome.Hsapiens.UCSC.hg19.masked'\n",
       "56. 'BSgenome.Hsapiens.UCSC.hg38'\n",
       "57. 'BSgenome.Hsapiens.UCSC.hg38.masked'\n",
       "58. 'BSgenome.Mdomestica.UCSC.monDom5'\n",
       "59. 'BSgenome.Mfascicularis.NCBI.5.0'\n",
       "60. 'BSgenome.Mfuro.UCSC.musFur1'\n",
       "61. 'BSgenome.Mmulatta.UCSC.rheMac10'\n",
       "62. 'BSgenome.Mmulatta.UCSC.rheMac2'\n",
       "63. 'BSgenome.Mmulatta.UCSC.rheMac2.masked'\n",
       "64. 'BSgenome.Mmulatta.UCSC.rheMac3'\n",
       "65. 'BSgenome.Mmulatta.UCSC.rheMac3.masked'\n",
       "66. 'BSgenome.Mmulatta.UCSC.rheMac8'\n",
       "67. 'BSgenome.Mmusculus.UCSC.mm10'\n",
       "68. 'BSgenome.Mmusculus.UCSC.mm10.masked'\n",
       "69. 'BSgenome.Mmusculus.UCSC.mm8'\n",
       "70. 'BSgenome.Mmusculus.UCSC.mm8.masked'\n",
       "71. 'BSgenome.Mmusculus.UCSC.mm9'\n",
       "72. 'BSgenome.Mmusculus.UCSC.mm9.masked'\n",
       "73. 'BSgenome.Osativa.MSU.MSU7'\n",
       "74. 'BSgenome.Ptroglodytes.UCSC.panTro2'\n",
       "75. 'BSgenome.Ptroglodytes.UCSC.panTro2.masked'\n",
       "76. 'BSgenome.Ptroglodytes.UCSC.panTro3'\n",
       "77. 'BSgenome.Ptroglodytes.UCSC.panTro3.masked'\n",
       "78. 'BSgenome.Ptroglodytes.UCSC.panTro5'\n",
       "79. 'BSgenome.Ptroglodytes.UCSC.panTro6'\n",
       "80. 'BSgenome.Rnorvegicus.UCSC.rn4'\n",
       "81. 'BSgenome.Rnorvegicus.UCSC.rn4.masked'\n",
       "82. 'BSgenome.Rnorvegicus.UCSC.rn5'\n",
       "83. 'BSgenome.Rnorvegicus.UCSC.rn5.masked'\n",
       "84. 'BSgenome.Rnorvegicus.UCSC.rn6'\n",
       "85. 'BSgenome.Scerevisiae.UCSC.sacCer1'\n",
       "86. 'BSgenome.Scerevisiae.UCSC.sacCer2'\n",
       "87. 'BSgenome.Scerevisiae.UCSC.sacCer3'\n",
       "88. 'BSgenome.Sscrofa.UCSC.susScr11'\n",
       "89. 'BSgenome.Sscrofa.UCSC.susScr3'\n",
       "90. 'BSgenome.Sscrofa.UCSC.susScr3.masked'\n",
       "91. 'BSgenome.Tgondii.ToxoDB.7.0'\n",
       "92. 'BSgenome.Tguttata.UCSC.taeGut1'\n",
       "93. 'BSgenome.Tguttata.UCSC.taeGut1.masked'\n",
       "94. 'BSgenome.Tguttata.UCSC.taeGut2'\n",
       "95. 'BSgenome.Vvinifera.URGI.IGGP12Xv0'\n",
       "96. 'BSgenome.Vvinifera.URGI.IGGP12Xv2'\n",
       "97. 'BSgenome.Vvinifera.URGI.IGGP8X'\n",
       "\n",
       "\n"
      ],
      "text/plain": [
       " [1] \"BSgenome.Alyrata.JGI.v1\"                  \n",
       " [2] \"BSgenome.Amellifera.BeeBase.assembly4\"    \n",
       " [3] \"BSgenome.Amellifera.UCSC.apiMel2\"         \n",
       " [4] \"BSgenome.Amellifera.UCSC.apiMel2.masked\"  \n",
       " [5] \"BSgenome.Aofficinalis.NCBI.V1\"            \n",
       " [6] \"BSgenome.Athaliana.TAIR.04232008\"         \n",
       " [7] \"BSgenome.Athaliana.TAIR.TAIR9\"            \n",
       " [8] \"BSgenome.Btaurus.UCSC.bosTau3\"            \n",
       " [9] \"BSgenome.Btaurus.UCSC.bosTau3.masked\"     \n",
       "[10] \"BSgenome.Btaurus.UCSC.bosTau4\"            \n",
       "[11] \"BSgenome.Btaurus.UCSC.bosTau4.masked\"     \n",
       "[12] \"BSgenome.Btaurus.UCSC.bosTau6\"            \n",
       "[13] \"BSgenome.Btaurus.UCSC.bosTau6.masked\"     \n",
       "[14] \"BSgenome.Btaurus.UCSC.bosTau8\"            \n",
       "[15] \"BSgenome.Btaurus.UCSC.bosTau9\"            \n",
       "[16] \"BSgenome.Carietinum.NCBI.v1\"              \n",
       "[17] \"BSgenome.Celegans.UCSC.ce10\"              \n",
       "[18] \"BSgenome.Celegans.UCSC.ce11\"              \n",
       "[19] \"BSgenome.Celegans.UCSC.ce2\"               \n",
       "[20] \"BSgenome.Celegans.UCSC.ce6\"               \n",
       "[21] \"BSgenome.Cfamiliaris.UCSC.canFam2\"        \n",
       "[22] \"BSgenome.Cfamiliaris.UCSC.canFam2.masked\" \n",
       "[23] \"BSgenome.Cfamiliaris.UCSC.canFam3\"        \n",
       "[24] \"BSgenome.Cfamiliaris.UCSC.canFam3.masked\" \n",
       "[25] \"BSgenome.Cjacchus.UCSC.calJac3\"           \n",
       "[26] \"BSgenome.Dmelanogaster.UCSC.dm2\"          \n",
       "[27] \"BSgenome.Dmelanogaster.UCSC.dm2.masked\"   \n",
       "[28] \"BSgenome.Dmelanogaster.UCSC.dm3\"          \n",
       "[29] \"BSgenome.Dmelanogaster.UCSC.dm3.masked\"   \n",
       "[30] \"BSgenome.Dmelanogaster.UCSC.dm6\"          \n",
       "[31] \"BSgenome.Drerio.UCSC.danRer10\"            \n",
       "[32] \"BSgenome.Drerio.UCSC.danRer11\"            \n",
       "[33] \"BSgenome.Drerio.UCSC.danRer5\"             \n",
       "[34] \"BSgenome.Drerio.UCSC.danRer5.masked\"      \n",
       "[35] \"BSgenome.Drerio.UCSC.danRer6\"             \n",
       "[36] \"BSgenome.Drerio.UCSC.danRer6.masked\"      \n",
       "[37] \"BSgenome.Drerio.UCSC.danRer7\"             \n",
       "[38] \"BSgenome.Drerio.UCSC.danRer7.masked\"      \n",
       "[39] \"BSgenome.Ecoli.NCBI.20080805\"             \n",
       "[40] \"BSgenome.Gaculeatus.UCSC.gasAcu1\"         \n",
       "[41] \"BSgenome.Gaculeatus.UCSC.gasAcu1.masked\"  \n",
       "[42] \"BSgenome.Ggallus.UCSC.galGal3\"            \n",
       "[43] \"BSgenome.Ggallus.UCSC.galGal3.masked\"     \n",
       "[44] \"BSgenome.Ggallus.UCSC.galGal4\"            \n",
       "[45] \"BSgenome.Ggallus.UCSC.galGal4.masked\"     \n",
       "[46] \"BSgenome.Ggallus.UCSC.galGal5\"            \n",
       "[47] \"BSgenome.Ggallus.UCSC.galGal6\"            \n",
       "[48] \"BSgenome.Hsapiens.1000genomes.hs37d5\"     \n",
       "[49] \"BSgenome.Hsapiens.NCBI.GRCh38\"            \n",
       "[50] \"BSgenome.Hsapiens.UCSC.hg17\"              \n",
       "[51] \"BSgenome.Hsapiens.UCSC.hg17.masked\"       \n",
       "[52] \"BSgenome.Hsapiens.UCSC.hg18\"              \n",
       "[53] \"BSgenome.Hsapiens.UCSC.hg18.masked\"       \n",
       "[54] \"BSgenome.Hsapiens.UCSC.hg19\"              \n",
       "[55] \"BSgenome.Hsapiens.UCSC.hg19.masked\"       \n",
       "[56] \"BSgenome.Hsapiens.UCSC.hg38\"              \n",
       "[57] \"BSgenome.Hsapiens.UCSC.hg38.masked\"       \n",
       "[58] \"BSgenome.Mdomestica.UCSC.monDom5\"         \n",
       "[59] \"BSgenome.Mfascicularis.NCBI.5.0\"          \n",
       "[60] \"BSgenome.Mfuro.UCSC.musFur1\"              \n",
       "[61] \"BSgenome.Mmulatta.UCSC.rheMac10\"          \n",
       "[62] \"BSgenome.Mmulatta.UCSC.rheMac2\"           \n",
       "[63] \"BSgenome.Mmulatta.UCSC.rheMac2.masked\"    \n",
       "[64] \"BSgenome.Mmulatta.UCSC.rheMac3\"           \n",
       "[65] \"BSgenome.Mmulatta.UCSC.rheMac3.masked\"    \n",
       "[66] \"BSgenome.Mmulatta.UCSC.rheMac8\"           \n",
       "[67] \"BSgenome.Mmusculus.UCSC.mm10\"             \n",
       "[68] \"BSgenome.Mmusculus.UCSC.mm10.masked\"      \n",
       "[69] \"BSgenome.Mmusculus.UCSC.mm8\"              \n",
       "[70] \"BSgenome.Mmusculus.UCSC.mm8.masked\"       \n",
       "[71] \"BSgenome.Mmusculus.UCSC.mm9\"              \n",
       "[72] \"BSgenome.Mmusculus.UCSC.mm9.masked\"       \n",
       "[73] \"BSgenome.Osativa.MSU.MSU7\"                \n",
       "[74] \"BSgenome.Ptroglodytes.UCSC.panTro2\"       \n",
       "[75] \"BSgenome.Ptroglodytes.UCSC.panTro2.masked\"\n",
       "[76] \"BSgenome.Ptroglodytes.UCSC.panTro3\"       \n",
       "[77] \"BSgenome.Ptroglodytes.UCSC.panTro3.masked\"\n",
       "[78] \"BSgenome.Ptroglodytes.UCSC.panTro5\"       \n",
       "[79] \"BSgenome.Ptroglodytes.UCSC.panTro6\"       \n",
       "[80] \"BSgenome.Rnorvegicus.UCSC.rn4\"            \n",
       "[81] \"BSgenome.Rnorvegicus.UCSC.rn4.masked\"     \n",
       "[82] \"BSgenome.Rnorvegicus.UCSC.rn5\"            \n",
       "[83] \"BSgenome.Rnorvegicus.UCSC.rn5.masked\"     \n",
       "[84] \"BSgenome.Rnorvegicus.UCSC.rn6\"            \n",
       "[85] \"BSgenome.Scerevisiae.UCSC.sacCer1\"        \n",
       "[86] \"BSgenome.Scerevisiae.UCSC.sacCer2\"        \n",
       "[87] \"BSgenome.Scerevisiae.UCSC.sacCer3\"        \n",
       "[88] \"BSgenome.Sscrofa.UCSC.susScr11\"           \n",
       "[89] \"BSgenome.Sscrofa.UCSC.susScr3\"            \n",
       "[90] \"BSgenome.Sscrofa.UCSC.susScr3.masked\"     \n",
       "[91] \"BSgenome.Tgondii.ToxoDB.7.0\"              \n",
       "[92] \"BSgenome.Tguttata.UCSC.taeGut1\"           \n",
       "[93] \"BSgenome.Tguttata.UCSC.taeGut1.masked\"    \n",
       "[94] \"BSgenome.Tguttata.UCSC.taeGut2\"           \n",
       "[95] \"BSgenome.Vvinifera.URGI.IGGP12Xv0\"        \n",
       "[96] \"BSgenome.Vvinifera.URGI.IGGP12Xv2\"        \n",
       "[97] \"BSgenome.Vvinifera.URGI.IGGP8X\"           "
      ]
     },
     "metadata": {},
     "output_type": "display_data"
    }
   ],
   "source": [
    "#Checking for available genomes\n",
    "available.genomes()"
   ]
  },
  {
   "cell_type": "code",
   "execution_count": 7,
   "metadata": {},
   "outputs": [
    {
     "name": "stderr",
     "output_type": "stream",
     "text": [
      "Bioconductor version 3.10 (BiocManager 1.30.10), R 3.6.1 (2019-07-05)\n",
      "\n",
      "Installing package(s) 'BSgenome.Scerevisiae.UCSC.sacCer3'\n",
      "\n",
      "installing the source package ‘BSgenome.Scerevisiae.UCSC.sacCer3’\n",
      "\n",
      "\n",
      "Old packages: 'Hmisc', 'MASS', 'RcppArmadillo', 'backports', 'bit64', 'callr',\n",
      "  'conquer', 'cowplot', 'cpp11', 'data.table', 'dendextend', 'dplyr', 'glue',\n",
      "  'h2o', 'jsonlite', 'lmtest', 'maptools', 'mgcv', 'nlme', 'processx', 'ps',\n",
      "  'quantreg', 'questionr', 'rgeos', 'sf', 'stringi', 'systemfonts', 'tidyr',\n",
      "  'vctrs', 'xfun', 'xts'\n",
      "\n"
     ]
    }
   ],
   "source": [
    "BiocManager::install(\"BSgenome.Scerevisiae.UCSC.sacCer3\")"
   ]
  },
  {
   "cell_type": "code",
   "execution_count": 8,
   "metadata": {},
   "outputs": [],
   "source": [
    "# load the package and store data into yeastGenome\n",
    "library(BSgenome.Scerevisiae.UCSC.sacCer3)\n",
    "yeastGenome <- BSgenome.Scerevisiae.UCSC.sacCer3"
   ]
  },
  {
   "cell_type": "code",
   "execution_count": 9,
   "metadata": {},
   "outputs": [
    {
     "data": {
      "text/html": [
       "17"
      ],
      "text/latex": [
       "17"
      ],
      "text/markdown": [
       "17"
      ],
      "text/plain": [
       "[1] 17"
      ]
     },
     "metadata": {},
     "output_type": "display_data"
    }
   ],
   "source": [
    "# Chromosome number \n",
    "length(yeastGenome)"
   ]
  },
  {
   "cell_type": "code",
   "execution_count": 10,
   "metadata": {},
   "outputs": [
    {
     "data": {
      "text/html": [
       "<style>\n",
       ".list-inline {list-style: none; margin:0; padding: 0}\n",
       ".list-inline>li {display: inline-block}\n",
       ".list-inline>li:not(:last-child)::after {content: \"\\00b7\"; padding: 0 .5ex}\n",
       "</style>\n",
       "<ol class=list-inline><li>'chrI'</li><li>'chrII'</li><li>'chrIII'</li><li>'chrIV'</li><li>'chrV'</li><li>'chrVI'</li><li>'chrVII'</li><li>'chrVIII'</li><li>'chrIX'</li><li>'chrX'</li><li>'chrXI'</li><li>'chrXII'</li><li>'chrXIII'</li><li>'chrXIV'</li><li>'chrXV'</li><li>'chrXVI'</li><li>'chrM'</li></ol>\n"
      ],
      "text/latex": [
       "\\begin{enumerate*}\n",
       "\\item 'chrI'\n",
       "\\item 'chrII'\n",
       "\\item 'chrIII'\n",
       "\\item 'chrIV'\n",
       "\\item 'chrV'\n",
       "\\item 'chrVI'\n",
       "\\item 'chrVII'\n",
       "\\item 'chrVIII'\n",
       "\\item 'chrIX'\n",
       "\\item 'chrX'\n",
       "\\item 'chrXI'\n",
       "\\item 'chrXII'\n",
       "\\item 'chrXIII'\n",
       "\\item 'chrXIV'\n",
       "\\item 'chrXV'\n",
       "\\item 'chrXVI'\n",
       "\\item 'chrM'\n",
       "\\end{enumerate*}\n"
      ],
      "text/markdown": [
       "1. 'chrI'\n",
       "2. 'chrII'\n",
       "3. 'chrIII'\n",
       "4. 'chrIV'\n",
       "5. 'chrV'\n",
       "6. 'chrVI'\n",
       "7. 'chrVII'\n",
       "8. 'chrVIII'\n",
       "9. 'chrIX'\n",
       "10. 'chrX'\n",
       "11. 'chrXI'\n",
       "12. 'chrXII'\n",
       "13. 'chrXIII'\n",
       "14. 'chrXIV'\n",
       "15. 'chrXV'\n",
       "16. 'chrXVI'\n",
       "17. 'chrM'\n",
       "\n",
       "\n"
      ],
      "text/plain": [
       " [1] \"chrI\"    \"chrII\"   \"chrIII\"  \"chrIV\"   \"chrV\"    \"chrVI\"   \"chrVII\" \n",
       " [8] \"chrVIII\" \"chrIX\"   \"chrX\"    \"chrXI\"   \"chrXII\"  \"chrXIII\" \"chrXIV\" \n",
       "[15] \"chrXV\"   \"chrXVI\"  \"chrM\"   "
      ]
     },
     "metadata": {},
     "output_type": "display_data"
    }
   ],
   "source": [
    "#The names of the chromosomes\n",
    "names(yeastGenome)"
   ]
  },
  {
   "cell_type": "code",
   "execution_count": 11,
   "metadata": {},
   "outputs": [
    {
     "data": {
      "text/html": [
       "<style>\n",
       ".dl-inline {width: auto; margin:0; padding: 0}\n",
       ".dl-inline>dt, .dl-inline>dd {float: none; width: auto; display: inline-block}\n",
       ".dl-inline>dt::after {content: \":\\0020\"; padding-right: .5ex}\n",
       ".dl-inline>dt:not(:first-of-type) {padding-left: .5ex}\n",
       "</style><dl class=dl-inline><dt>chrI</dt><dd>230218</dd><dt>chrII</dt><dd>813184</dd><dt>chrIII</dt><dd>316620</dd><dt>chrIV</dt><dd>1531933</dd><dt>chrV</dt><dd>576874</dd><dt>chrVI</dt><dd>270161</dd><dt>chrVII</dt><dd>1090940</dd><dt>chrVIII</dt><dd>562643</dd><dt>chrIX</dt><dd>439888</dd><dt>chrX</dt><dd>745751</dd><dt>chrXI</dt><dd>666816</dd><dt>chrXII</dt><dd>1078177</dd><dt>chrXIII</dt><dd>924431</dd><dt>chrXIV</dt><dd>784333</dd><dt>chrXV</dt><dd>1091291</dd><dt>chrXVI</dt><dd>948066</dd><dt>chrM</dt><dd>85779</dd></dl>\n"
      ],
      "text/latex": [
       "\\begin{description*}\n",
       "\\item[chrI] 230218\n",
       "\\item[chrII] 813184\n",
       "\\item[chrIII] 316620\n",
       "\\item[chrIV] 1531933\n",
       "\\item[chrV] 576874\n",
       "\\item[chrVI] 270161\n",
       "\\item[chrVII] 1090940\n",
       "\\item[chrVIII] 562643\n",
       "\\item[chrIX] 439888\n",
       "\\item[chrX] 745751\n",
       "\\item[chrXI] 666816\n",
       "\\item[chrXII] 1078177\n",
       "\\item[chrXIII] 924431\n",
       "\\item[chrXIV] 784333\n",
       "\\item[chrXV] 1091291\n",
       "\\item[chrXVI] 948066\n",
       "\\item[chrM] 85779\n",
       "\\end{description*}\n"
      ],
      "text/markdown": [
       "chrI\n",
       ":   230218chrII\n",
       ":   813184chrIII\n",
       ":   316620chrIV\n",
       ":   1531933chrV\n",
       ":   576874chrVI\n",
       ":   270161chrVII\n",
       ":   1090940chrVIII\n",
       ":   562643chrIX\n",
       ":   439888chrX\n",
       ":   745751chrXI\n",
       ":   666816chrXII\n",
       ":   1078177chrXIII\n",
       ":   924431chrXIV\n",
       ":   784333chrXV\n",
       ":   1091291chrXVI\n",
       ":   948066chrM\n",
       ":   85779\n",
       "\n"
      ],
      "text/plain": [
       "   chrI   chrII  chrIII   chrIV    chrV   chrVI  chrVII chrVIII   chrIX    chrX \n",
       " 230218  813184  316620 1531933  576874  270161 1090940  562643  439888  745751 \n",
       "  chrXI  chrXII chrXIII  chrXIV   chrXV  chrXVI    chrM \n",
       " 666816 1078177  924431  784333 1091291  948066   85779 "
      ]
     },
     "metadata": {},
     "output_type": "display_data"
    }
   ],
   "source": [
    "# Sequence lengths \n",
    "seqlengths(yeastGenome)"
   ]
  },
  {
   "cell_type": "code",
   "execution_count": 12,
   "metadata": {},
   "outputs": [
    {
     "data": {
      "text/html": [
       "230218"
      ],
      "text/latex": [
       "230218"
      ],
      "text/markdown": [
       "230218"
      ],
      "text/plain": [
       "[1] 230218"
      ]
     },
     "metadata": {},
     "output_type": "display_data"
    }
   ],
   "source": [
    "# count the number of characters in a sequence 'chrI'\n",
    "nchar(yeastGenome$chrI)"
   ]
  },
  {
   "cell_type": "code",
   "execution_count": 13,
   "metadata": {},
   "outputs": [
    {
     "data": {
      "text/html": [
       "<style>\n",
       ".list-inline {list-style: none; margin:0; padding: 0}\n",
       ".list-inline>li {display: inline-block}\n",
       ".list-inline>li:not(:last-child)::after {content: \"\\00b7\"; padding: 0 .5ex}\n",
       "</style>\n",
       "<ol class=list-inline><li>'chrI'</li><li>'chrII'</li><li>'chrIII'</li><li>'chrIV'</li><li>'chrV'</li><li>'chrVI'</li></ol>\n"
      ],
      "text/latex": [
       "\\begin{enumerate*}\n",
       "\\item 'chrI'\n",
       "\\item 'chrII'\n",
       "\\item 'chrIII'\n",
       "\\item 'chrIV'\n",
       "\\item 'chrV'\n",
       "\\item 'chrVI'\n",
       "\\end{enumerate*}\n"
      ],
      "text/markdown": [
       "1. 'chrI'\n",
       "2. 'chrII'\n",
       "3. 'chrIII'\n",
       "4. 'chrIV'\n",
       "5. 'chrV'\n",
       "6. 'chrVI'\n",
       "\n",
       "\n"
      ],
      "text/plain": [
       "[1] \"chrI\"   \"chrII\"  \"chrIII\" \"chrIV\"  \"chrV\"   \"chrVI\" "
      ]
     },
     "metadata": {},
     "output_type": "display_data"
    },
    {
     "data": {
      "text/html": [
       "<style>\n",
       ".dl-inline {width: auto; margin:0; padding: 0}\n",
       ".dl-inline>dt, .dl-inline>dd {float: none; width: auto; display: inline-block}\n",
       ".dl-inline>dt::after {content: \":\\0020\"; padding-right: .5ex}\n",
       ".dl-inline>dt:not(:first-of-type) {padding-left: .5ex}\n",
       "</style><dl class=dl-inline><dt>chrXII</dt><dd>1078177</dd><dt>chrXIII</dt><dd>924431</dd><dt>chrXIV</dt><dd>784333</dd><dt>chrXV</dt><dd>1091291</dd><dt>chrXVI</dt><dd>948066</dd><dt>chrM</dt><dd>85779</dd></dl>\n"
      ],
      "text/latex": [
       "\\begin{description*}\n",
       "\\item[chrXII] 1078177\n",
       "\\item[chrXIII] 924431\n",
       "\\item[chrXIV] 784333\n",
       "\\item[chrXV] 1091291\n",
       "\\item[chrXVI] 948066\n",
       "\\item[chrM] 85779\n",
       "\\end{description*}\n"
      ],
      "text/markdown": [
       "chrXII\n",
       ":   1078177chrXIII\n",
       ":   924431chrXIV\n",
       ":   784333chrXV\n",
       ":   1091291chrXVI\n",
       ":   948066chrM\n",
       ":   85779\n",
       "\n"
      ],
      "text/plain": [
       " chrXII chrXIII  chrXIV   chrXV  chrXVI    chrM \n",
       "1078177  924431  784333 1091291  948066   85779 "
      ]
     },
     "metadata": {},
     "output_type": "display_data"
    }
   ],
   "source": [
    "# Get the head of seqnames and tail of seqlengths for yeastGenome\n",
    "head(seqnames(yeastGenome))\n",
    "tail(seqlengths(yeastGenome))"
   ]
  },
  {
   "cell_type": "markdown",
   "metadata": {},
   "source": [
    "<h3>Partitioning the Yeast genome</h3>"
   ]
  },
  {
   "cell_type": "code",
   "execution_count": 14,
   "metadata": {},
   "outputs": [
    {
     "data": {
      "text/plain": [
       "  A DNAStringSet instance of length 17\n",
       "       width seq                                            names               \n",
       " [1]  230218 CCACACCACACCCACACACCCA...TGTGGGTGTGGTGTGTGTGGG chrI\n",
       " [2]  813184 AAATAGCCCTCATGTACGTCTC...GGGTGTGGTGTGTGGGTGTGT chrII\n",
       " [3]  316620 CCCACACACCACACCCACACCA...GTGGTGGGTGTGGTGTGTGTG chrIII\n",
       " [4] 1531933 ACACCACACCCACACCACACCC...AAGGTAGTAAGTAGCTTTTGG chrIV\n",
       " [5]  576874 CGTCTCCTCCAAGCCCTGTTGT...TTCATTTTCATTTTTTTTTTT chrV\n",
       " ...     ... ...\n",
       "[13]  924431 CCACACACACACCACACCCACA...GGGTGTGGTGTGTGTGTGGGG chrXIII\n",
       "[14]  784333 CCGGCTTTCTGACCGAAATTAA...GTGTGTGGGTGTGGTGTGGGT chrXIV\n",
       "[15] 1091291 ACACCACACCCACACCACACCC...GAGTGTGTGGGTGTGGTGTGT chrXV\n",
       "[16]  948066 AAATAGCCCTCATGTACGTCTC...TTTTTTAATTTCGGTCAGAAA chrXVI\n",
       "[17]   85779 TTCATAATTAATTTTTTATATA...AATTATAATATAATATCCATA chrM"
      ]
     },
     "metadata": {},
     "output_type": "display_data"
    }
   ],
   "source": [
    "# S4 method getSeq() requires a BSgenome object\n",
    "getSeq(yeastGenome)"
   ]
  },
  {
   "cell_type": "code",
   "execution_count": 15,
   "metadata": {},
   "outputs": [
    {
     "data": {
      "text/plain": [
       "  A DNAStringSet instance of length 17\n",
       "     width seq                                              names               \n",
       " [1]    30 CCACACCACACCCACACACCCACACACCAC                   chrI\n",
       " [2]    30 AAATAGCCCTCATGTACGTCTCCTCCAAGC                   chrII\n",
       " [3]    30 CCCACACACCACACCCACACCACACCCACA                   chrIII\n",
       " [4]    30 ACACCACACCCACACCACACCCACACACAC                   chrIV\n",
       " [5]    30 CGTCTCCTCCAAGCCCTGTTGTCTCTTACC                   chrV\n",
       " ...   ... ...\n",
       "[13]    30 CCACACACACACCACACCCACACCACACCC                   chrXIII\n",
       "[14]    30 CCGGCTTTCTGACCGAAATTAAAAAAAAAA                   chrXIV\n",
       "[15]    30 ACACCACACCCACACCACACCCACACCCAC                   chrXV\n",
       "[16]    30 AAATAGCCCTCATGTACGTCTCCTCCAAGC                   chrXVI\n",
       "[17]    30 TTCATAATTAATTTTTTATATATATATTAT                   chrM"
      ]
     },
     "metadata": {},
     "output_type": "display_data"
    }
   ],
   "source": [
    "# Get the first 30 bases of each chromosome\n",
    "getSeq(yeastGenome, end = 30)"
   ]
  },
  {
   "cell_type": "code",
   "execution_count": 16,
   "metadata": {},
   "outputs": [
    {
     "data": {
      "text/plain": [
       "  A DNAStringSet instance of length 17\n",
       "     width seq                                              names               \n",
       " [1]    10 CCACACCACA                                       chrI\n",
       " [2]    10 AAATAGCCCT                                       chrII\n",
       " [3]    10 CCCACACACC                                       chrIII\n",
       " [4]    10 ACACCACACC                                       chrIV\n",
       " [5]    10 CGTCTCCTCC                                       chrV\n",
       " ...   ... ...\n",
       "[13]    10 CCACACACAC                                       chrXIII\n",
       "[14]    10 CCGGCTTTCT                                       chrXIV\n",
       "[15]    10 ACACCACACC                                       chrXV\n",
       "[16]    10 AAATAGCCCT                                       chrXVI\n",
       "[17]    10 TTCATAATTA                                       chrM"
      ]
     },
     "metadata": {},
     "output_type": "display_data"
    }
   ],
   "source": [
    "# Select start, end and or width \n",
    "# end = 10, selects first 10 base pairs of each chromosome\n",
    "getSeq(yeastGenome, end = 10)"
   ]
  },
  {
   "cell_type": "code",
   "execution_count": 17,
   "metadata": {},
   "outputs": [
    {
     "data": {
      "text/plain": [
       "  A DNAStringSet instance of length 2\n",
       "     width seq                                              names               \n",
       "[1] 230218 CCACACCACACCCACACACCCAC...GTGTGGGTGTGGTGTGTGTGGG chrI\n",
       "[2]  85779 TTCATAATTAATTTTTTATATAT...TAATTATAATATAATATCCATA chrM"
      ]
     },
     "metadata": {},
     "output_type": "display_data"
    }
   ],
   "source": [
    "# Select chromosome sequence by name, one or many \n",
    "getSeq(yeastGenome, names = c(\"chrI\", \"chrM\"))"
   ]
  },
  {
   "cell_type": "code",
   "execution_count": 18,
   "metadata": {},
   "outputs": [
    {
     "data": {
      "text/plain": [
       "  51-letter \"DNAString\" instance\n",
       "seq: GGCCAACCTGTCTCTCAACTTACCCTCCATTACCCTGCCTCCACTCGTTAC"
      ]
     },
     "metadata": {},
     "output_type": "display_data"
    }
   ],
   "source": [
    "getSeq(yeastGenome, names = \"chrI\", start = 100, end = 150)"
   ]
  },
  {
   "cell_type": "markdown",
   "metadata": {},
   "source": [
    "## 2. Biostrings and when to use them?"
   ]
  },
  {
   "cell_type": "markdown",
   "metadata": {},
   "source": [
    "<p>Biostrings are memory efficient string containers. Biostring has matching algorithms, and other utilities, for fast manipulation of large biological sequences or sets of sequences. How efficient we can become by using the right containers for our sequences? We will learn about alphabets, and sequence manipulation by using the tiny genome of a virus.</p>"
   ]
  },
  {
   "cell_type": "code",
   "execution_count": 64,
   "metadata": {},
   "outputs": [
    {
     "name": "stderr",
     "output_type": "stream",
     "text": [
      "Bioconductor version 3.10 (BiocManager 1.30.10), R 3.6.1 (2019-07-05)\n",
      "\n",
      "Installing package(s) 'Biostrings'\n",
      "\n"
     ]
    },
    {
     "name": "stdout",
     "output_type": "stream",
     "text": [
      "\n",
      "The downloaded binary packages are in\n",
      "\t/var/folders/5j/91qghkgd3k387sfm9f5m0fym0000gn/T//RtmpMVIygI/downloaded_packages\n"
     ]
    },
    {
     "name": "stderr",
     "output_type": "stream",
     "text": [
      "Old packages: 'Hmisc', 'MASS', 'RcppArmadillo', 'backports', 'bit64', 'callr',\n",
      "  'conquer', 'cowplot', 'cpp11', 'data.table', 'dendextend', 'dplyr', 'glue',\n",
      "  'jsonlite', 'lmtest', 'maptools', 'mgcv', 'nlme', 'processx', 'ps',\n",
      "  'quantreg', 'questionr', 'rgeos', 'sf', 'stringi', 'systemfonts', 'tidyr',\n",
      "  'vctrs', 'xfun', 'xts'\n",
      "\n"
     ]
    }
   ],
   "source": [
    "BiocManager::install(\"Biostrings\")"
   ]
  },
  {
   "cell_type": "code",
   "execution_count": 65,
   "metadata": {},
   "outputs": [
    {
     "name": "stderr",
     "output_type": "stream",
     "text": [
      "Bioconductor version 3.10 (BiocManager 1.30.10), R 3.6.1 (2019-07-05)\n",
      "\n",
      "Installing package(s) 'biomaRt'\n",
      "\n"
     ]
    },
    {
     "name": "stdout",
     "output_type": "stream",
     "text": [
      "\n",
      "The downloaded binary packages are in\n",
      "\t/var/folders/5j/91qghkgd3k387sfm9f5m0fym0000gn/T//RtmpMVIygI/downloaded_packages\n"
     ]
    },
    {
     "name": "stderr",
     "output_type": "stream",
     "text": [
      "Old packages: 'Hmisc', 'MASS', 'RcppArmadillo', 'backports', 'bit64', 'callr',\n",
      "  'conquer', 'cowplot', 'cpp11', 'data.table', 'dendextend', 'dplyr', 'glue',\n",
      "  'jsonlite', 'lmtest', 'maptools', 'mgcv', 'nlme', 'processx', 'ps',\n",
      "  'quantreg', 'questionr', 'rgeos', 'sf', 'stringi', 'systemfonts', 'tidyr',\n",
      "  'vctrs', 'xfun', 'xts'\n",
      "\n"
     ]
    }
   ],
   "source": [
    "BiocManager::install(\"biomaRt\")"
   ]
  },
  {
   "cell_type": "code",
   "execution_count": 66,
   "metadata": {},
   "outputs": [],
   "source": [
    "library(biomaRt)"
   ]
  },
  {
   "cell_type": "code",
   "execution_count": 67,
   "metadata": {},
   "outputs": [
    {
     "name": "stdout",
     "output_type": "stream",
     "text": [
      "\n",
      "The downloaded binary packages are in\n",
      "\t/var/folders/5j/91qghkgd3k387sfm9f5m0fym0000gn/T//RtmpMVIygI/downloaded_packages\n"
     ]
    }
   ],
   "source": [
    "install.packages(\"biomartr\", dependencies = TRUE)"
   ]
  },
  {
   "cell_type": "markdown",
   "metadata": {},
   "source": [
    "<h4>Importing Zika virus genome data</h4>"
   ]
  },
  {
   "cell_type": "code",
   "execution_count": 68,
   "metadata": {},
   "outputs": [],
   "source": [
    "library(biomartr)"
   ]
  },
  {
   "cell_type": "code",
   "execution_count": 40,
   "metadata": {
    "scrolled": false
   },
   "outputs": [
    {
     "name": "stderr",
     "output_type": "stream",
     "text": [
      "Starting collection retrieval (genome, proteome, cds, gff/gtf, rna, repeat masker, assembly stats) for Zika_virus ...\n",
      "\n",
      "Starting genome retrieval of 'Zika virus' from refseq ...\n",
      "\n",
      "\n",
      "\n",
      "\n",
      "Genome download of Zika_virus is completed!\n",
      "\n",
      "Checking md5 hash of file: _db_downloads/collections/refseq/Zika_virus/Zika_virus_md5checksums.txt ...\n",
      "\n",
      "The md5 hash of file '_db_downloads/collections/refseq/Zika_virus/Zika_virus_md5checksums.txt' matches!\n",
      "\n",
      "The genome of 'Zika_virus' has been downloaded to '_db_downloads/collections/refseq/Zika_virus' and has been named 'Zika_virus_genomic_refseq.fna.gz'.\n",
      "\n",
      "\n",
      "\n",
      "\n",
      "Starting proteome retrieval of 'Zika virus' from refseq ...\n",
      "\n",
      "\n",
      "\n",
      "\n",
      "Proteome download of Zika_virus is completed!\n",
      "\n",
      "Checking md5 hash of file: _db_downloads/collections/refseq/Zika_virus/Zika_virus_md5checksums.txt ...\n",
      "\n",
      "The md5 hash of file '_db_downloads/collections/refseq/Zika_virus/Zika_virus_md5checksums.txt' matches!\n",
      "\n",
      "The proteome of 'Zika_virus' has been downloaded to '_db_downloads/collections/refseq/Zika_virus' and has been named 'Zika_virus_protein_refseq.faa.gz' .\n",
      "\n",
      "\n",
      "\n",
      "\n",
      "Starting CDS retrieval of 'Zika virus' from refseq ...\n",
      "\n",
      "\n",
      "\n",
      "\n",
      "CDS download of Zika_virus is completed!\n",
      "\n",
      "Checking md5 hash of file: _db_downloads/collections/refseq/Zika_virus/Zika_virus_md5checksums.txt ...\n",
      "\n",
      "The md5 hash of file '_db_downloads/collections/refseq/Zika_virus/Zika_virus_md5checksums.txt' matches!\n",
      "\n",
      "The genomic CDS of 'Zika_virus' has been downloaded to '_db_downloads/collections/refseq/Zika_virus' and has been named 'Zika_virus_cds_from_genomic_refseq.fna.gz' .\n",
      "\n",
      "\n",
      "\n",
      "\n",
      "Starting GFF retrieval of 'Zika virus' from refseq ...\n",
      "\n",
      "\n",
      "\n",
      "\n",
      "GFF download of Zika_virus is completed!\n",
      "\n",
      "Checking md5 hash of file: _db_downloads/collections/refseq/Zika_virus/Zika_virus_md5checksums.txt ...\n",
      "\n",
      "The md5 hash of file '_db_downloads/collections/refseq/Zika_virus/Zika_virus_md5checksums.txt' matches!\n",
      "\n",
      "\n",
      "\n",
      "\n",
      "Starting RNA retrieval of 'Zika virus' from refseq ...\n",
      "\n",
      "\n",
      "\n",
      "\n",
      "The download session seems to have timed out at the FTP site 'ftp://ftp.ncbi.nlm.nih.gov/genomes/all/GCF/000/882/815/GCF_000882815.3_ViralProj36615/GCF_000882815.3_ViralProj36615_rna_from_genomic.fna.gz'. This could be due to an overload of queries to the databases. Please restart this function to continue the data retrieval process or wait for a while before restarting this function in case your IP address was logged due to an query overload on the server side.\n",
      "\n",
      "The genomic RNA of 'Zika_virus' has been downloaded to '_db_downloads/collections/refseq/Zika_virus' and has been named 'Zika_virus_rna_from_genomic_refseq.fna.gz' .\n",
      "\n",
      "\n",
      "\n",
      "\n",
      "Starting Repeat Masker retrieval of 'Zika virus' from refseq ...\n",
      "\n",
      "\n",
      "\n",
      "\n",
      "The download session seems to have timed out at the FTP site 'ftp://ftp.ncbi.nlm.nih.gov/genomes/all/GCF/000/882/815/GCF_000882815.3_ViralProj36615/GCF_000882815.3_ViralProj36615_rm.out.gz'. This could be due to an overload of queries to the databases. Please restart this function to continue the data retrieval process or wait for a while before restarting this function in case your IP address was logged due to an query overload on the server side.\n",
      "\n",
      "The Repeat Masker output file of 'Zika_virus' has been downloaded to '_db_downloads/collections/refseq/Zika_virus' and has been named 'Zika_virus_rm_refseq.out.gz'.\n",
      "\n",
      "\n",
      "\n",
      "\n",
      "Starting assembly quality stats retrieval of 'Zika virus' from refseq ...\n",
      "\n",
      "\n",
      "\n",
      "\n",
      "Genome assembly quality stats file download completed!\n",
      "\n",
      "Checking md5 hash of file: _db_downloads/collections/refseq/Zika_virus/Zika_virus_md5checksums.txt ...\n",
      "\n",
      "The md5 hash of file '_db_downloads/collections/refseq/Zika_virus/Zika_virus_md5checksums.txt' matches!\n",
      "\n",
      "The assembly statistics file of 'Zika_virus' has been downloaded to '_db_downloads/collections/refseq/Zika_virus' and has been named 'Zika_virus_assembly_stats_refseq.txt'.\n",
      "\n",
      "Collection retrieval finished successfully!\n",
      "\n",
      "\n",
      "\n",
      "\n"
     ]
    }
   ],
   "source": [
    "# download collection for Zika virus\n",
    "biomartr::getCollection( db = \"refseq\", organism = \"Zika virus\")"
   ]
  },
  {
   "cell_type": "code",
   "execution_count": 69,
   "metadata": {},
   "outputs": [
    {
     "name": "stderr",
     "output_type": "stream",
     "text": [
      "Starting genome retrieval of 'Zika virus' from refseq ...\n",
      "\n",
      "\n",
      "\n",
      "\n",
      "Warning message:\n",
      "“More than one entry has been found for 'Zika virus'. Only the first entry 'Zika virus' has been used for subsequent genome retrieval. If you wish to download a different version, please use the NCBI accession ID when specifying the 'organism' argument. See ?is.genome.available for examples.”\n",
      "File _ncbi_downloads/genomes/Zika_virus_genomic_refseq.fna.gz exists already. Thus, download has been skipped.\n",
      "\n",
      "The genome of 'Zika_virus' has been downloaded to '_ncbi_downloads/genomes' and has been named 'Zika_virus_genomic_refseq.fna.gz'.\n",
      "\n"
     ]
    }
   ],
   "source": [
    "file_path <- getGenome( db = \"refseq\", \n",
    "             organism = \"Zika virus\", \n",
    "             path = file.path(\"_ncbi_downloads\",\"genomes\"))\n",
    "\n",
    "zikaVirus_genome <- read_genome(file_path, format = \"fasta\")"
   ]
  },
  {
   "cell_type": "code",
   "execution_count": 70,
   "metadata": {},
   "outputs": [
    {
     "data": {
      "text/plain": [
       "  A DNAStringSet instance of length 1\n",
       "    width seq                                               names               \n",
       "[1] 10794 AGTTGTTGATCTGTGTGAGTCAG...GTGTGGGGAAATCCATGGTTTCT NC_012532.1 Zika ..."
      ]
     },
     "metadata": {},
     "output_type": "display_data"
    }
   ],
   "source": [
    "zikaVirus_genome"
   ]
  },
  {
   "cell_type": "code",
   "execution_count": 71,
   "metadata": {},
   "outputs": [],
   "source": [
    "# Load packages\n",
    "library(Biostrings)"
   ]
  },
  {
   "cell_type": "code",
   "execution_count": 73,
   "metadata": {},
   "outputs": [
    {
     "data": {
      "text/html": [
       "<style>\n",
       ".list-inline {list-style: none; margin:0; padding: 0}\n",
       ".list-inline>li {display: inline-block}\n",
       ".list-inline>li:not(:last-child)::after {content: \"\\00b7\"; padding: 0 .5ex}\n",
       "</style>\n",
       "<ol class=list-inline><li>'A'</li><li>'C'</li><li>'G'</li><li>'T'</li><li>'M'</li><li>'R'</li><li>'W'</li><li>'S'</li><li>'Y'</li><li>'K'</li><li>'V'</li><li>'H'</li><li>'D'</li><li>'B'</li><li>'N'</li><li>'-'</li><li>'+'</li><li>'.'</li></ol>\n"
      ],
      "text/latex": [
       "\\begin{enumerate*}\n",
       "\\item 'A'\n",
       "\\item 'C'\n",
       "\\item 'G'\n",
       "\\item 'T'\n",
       "\\item 'M'\n",
       "\\item 'R'\n",
       "\\item 'W'\n",
       "\\item 'S'\n",
       "\\item 'Y'\n",
       "\\item 'K'\n",
       "\\item 'V'\n",
       "\\item 'H'\n",
       "\\item 'D'\n",
       "\\item 'B'\n",
       "\\item 'N'\n",
       "\\item '-'\n",
       "\\item '+'\n",
       "\\item '.'\n",
       "\\end{enumerate*}\n"
      ],
      "text/markdown": [
       "1. 'A'\n",
       "2. 'C'\n",
       "3. 'G'\n",
       "4. 'T'\n",
       "5. 'M'\n",
       "6. 'R'\n",
       "7. 'W'\n",
       "8. 'S'\n",
       "9. 'Y'\n",
       "10. 'K'\n",
       "11. 'V'\n",
       "12. 'H'\n",
       "13. 'D'\n",
       "14. 'B'\n",
       "15. 'N'\n",
       "16. '-'\n",
       "17. '+'\n",
       "18. '.'\n",
       "\n",
       "\n"
      ],
      "text/plain": [
       " [1] \"A\" \"C\" \"G\" \"T\" \"M\" \"R\" \"W\" \"S\" \"Y\" \"K\" \"V\" \"H\" \"D\" \"B\" \"N\" \"-\" \"+\" \".\""
      ]
     },
     "metadata": {},
     "output_type": "display_data"
    }
   ],
   "source": [
    "# Check the alphabet of the zikaVirus\n",
    "alphabet(zikaVirus_genome)"
   ]
  },
  {
   "cell_type": "code",
   "execution_count": 74,
   "metadata": {},
   "outputs": [
    {
     "data": {
      "text/html": [
       "<table>\n",
       "<caption>A matrix: 1 × 18 of type int</caption>\n",
       "<thead>\n",
       "\t<tr><th scope=col>A</th><th scope=col>C</th><th scope=col>G</th><th scope=col>T</th><th scope=col>M</th><th scope=col>R</th><th scope=col>W</th><th scope=col>S</th><th scope=col>Y</th><th scope=col>K</th><th scope=col>V</th><th scope=col>H</th><th scope=col>D</th><th scope=col>B</th><th scope=col>N</th><th scope=col>-</th><th scope=col>+</th><th scope=col>.</th></tr>\n",
       "</thead>\n",
       "<tbody>\n",
       "\t<tr><td>2991</td><td>2359</td><td>3139</td><td>2305</td><td>0</td><td>0</td><td>0</td><td>0</td><td>0</td><td>0</td><td>0</td><td>0</td><td>0</td><td>0</td><td>0</td><td>0</td><td>0</td><td>0</td></tr>\n",
       "</tbody>\n",
       "</table>\n"
      ],
      "text/latex": [
       "A matrix: 1 × 18 of type int\n",
       "\\begin{tabular}{llllllllllllllllll}\n",
       " A & C & G & T & M & R & W & S & Y & K & V & H & D & B & N & - & + & .\\\\\n",
       "\\hline\n",
       "\t 2991 & 2359 & 3139 & 2305 & 0 & 0 & 0 & 0 & 0 & 0 & 0 & 0 & 0 & 0 & 0 & 0 & 0 & 0\\\\\n",
       "\\end{tabular}\n"
      ],
      "text/markdown": [
       "\n",
       "A matrix: 1 × 18 of type int\n",
       "\n",
       "| A | C | G | T | M | R | W | S | Y | K | V | H | D | B | N | - | + | . |\n",
       "|---|---|---|---|---|---|---|---|---|---|---|---|---|---|---|---|---|---|\n",
       "| 2991 | 2359 | 3139 | 2305 | 0 | 0 | 0 | 0 | 0 | 0 | 0 | 0 | 0 | 0 | 0 | 0 | 0 | 0 |\n",
       "\n"
      ],
      "text/plain": [
       "     A    C    G    T    M R W S Y K V H D B N - + .\n",
       "[1,] 2991 2359 3139 2305 0 0 0 0 0 0 0 0 0 0 0 0 0 0"
      ]
     },
     "metadata": {},
     "output_type": "display_data"
    }
   ],
   "source": [
    "alphabetFrequency(zikaVirus_genome)"
   ]
  },
  {
   "cell_type": "code",
   "execution_count": 76,
   "metadata": {
    "scrolled": true
   },
   "outputs": [
    {
     "data": {
      "text/html": [
       "<style>\n",
       ".list-inline {list-style: none; margin:0; padding: 0}\n",
       ".list-inline>li {display: inline-block}\n",
       ".list-inline>li:not(:last-child)::after {content: \"\\00b7\"; padding: 0 .5ex}\n",
       "</style>\n",
       "<ol class=list-inline><li>'A'</li><li>'C'</li><li>'G'</li><li>'T'</li></ol>\n"
      ],
      "text/latex": [
       "\\begin{enumerate*}\n",
       "\\item 'A'\n",
       "\\item 'C'\n",
       "\\item 'G'\n",
       "\\item 'T'\n",
       "\\end{enumerate*}\n"
      ],
      "text/markdown": [
       "1. 'A'\n",
       "2. 'C'\n",
       "3. 'G'\n",
       "4. 'T'\n",
       "\n",
       "\n"
      ],
      "text/plain": [
       "[1] \"A\" \"C\" \"G\" \"T\""
      ]
     },
     "metadata": {},
     "output_type": "display_data"
    }
   ],
   "source": [
    "# Check alphabet of the zikaVirus using baseOnly = TRUE\n",
    "alphabet(zikaVirus_genome, baseOnly = TRUE)"
   ]
  },
  {
   "cell_type": "markdown",
   "metadata": {},
   "source": [
    "<p>We've now discovered that the <i>zikaVirus_genome</i> is a DNA sequence since it contains the 4 bases A, C, T and G.</p>"
   ]
  },
  {
   "cell_type": "markdown",
   "metadata": {},
   "source": [
    "<h3>Manipulating Biostrings</h3>"
   ]
  },
  {
   "cell_type": "code",
   "execution_count": 79,
   "metadata": {},
   "outputs": [
    {
     "data": {
      "text/plain": [
       "  21-letter \"DNAString\" instance\n",
       "seq: AGTTGTTGATCTGTGTGAGTC"
      ]
     },
     "metadata": {},
     "output_type": "display_data"
    }
   ],
   "source": [
    "# Unlist the set, select the first 21 letters, and assign to dna_seq\n",
    "dna_seq <- subseq(unlist(zikaVirus_genome), end = 21)\n",
    "dna_seq"
   ]
  },
  {
   "cell_type": "code",
   "execution_count": 80,
   "metadata": {},
   "outputs": [
    {
     "data": {
      "text/plain": [
       "  21-letter \"RNAString\" instance\n",
       "seq: AGUUGUUGAUCUGUGUGAGUC"
      ]
     },
     "metadata": {},
     "output_type": "display_data"
    }
   ],
   "source": [
    "# Transcribe dna_seq into an RNAString object and print it\n",
    "rna_seq <- RNAString(dna_seq) \n",
    "rna_seq"
   ]
  },
  {
   "cell_type": "code",
   "execution_count": 81,
   "metadata": {},
   "outputs": [
    {
     "data": {
      "text/plain": [
       "  7-letter \"AAString\" instance\n",
       "seq: SC*SV*V"
      ]
     },
     "metadata": {},
     "output_type": "display_data"
    }
   ],
   "source": [
    "# Translate rna_seq into an AAString object and print it\n",
    "aa_seq <- translate(rna_seq)\n",
    "aa_seq"
   ]
  },
  {
   "cell_type": "markdown",
   "metadata": {},
   "source": [
    "<p>Five RNA bases form one AA:\n",
    "<ul>\n",
    "    <li>AGU = S</li>\n",
    "    <li>UGU = C</li>\n",
    "    <li>UGA = *</li>\n",
    "    <li>UCU = S</li>\n",
    "    <li>GUG = V</li>\n",
    "    <li>UGA = *</li>\n",
    "    <li>UGA = V</li>\n",
    "</ul>\n",
    "</p>"
   ]
  },
  {
   "cell_type": "markdown",
   "metadata": {},
   "source": [
    "<h3>OR...</h3>"
   ]
  },
  {
   "cell_type": "code",
   "execution_count": 83,
   "metadata": {},
   "outputs": [
    {
     "data": {
      "text/plain": [
       "  21-letter \"DNAString\" instance\n",
       "seq: AGTTGTTGATCTGTGTGAGTC"
      ]
     },
     "metadata": {},
     "output_type": "display_data"
    }
   ],
   "source": [
    "# Unlist the set, select the first 21 letters, and assign to dna_seq\n",
    "dna_seq <- subseq(unlist(zikaVirus_genome), end = 21)\n",
    "dna_seq"
   ]
  },
  {
   "cell_type": "code",
   "execution_count": 84,
   "metadata": {},
   "outputs": [
    {
     "data": {
      "text/plain": [
       "  7-letter \"AAString\" instance\n",
       "seq: SC*SV*V"
      ]
     },
     "metadata": {},
     "output_type": "display_data"
    }
   ],
   "source": [
    "# Transcribe and translate dna_seq into an AAString object and print it\n",
    "aa_seq <- translate(dna_seq)\n",
    "aa_seq"
   ]
  },
  {
   "cell_type": "markdown",
   "metadata": {},
   "source": [
    "<p>The function <b>translate()</b> accepts both a <b>\"DNAString\"</b> and an <b>\"RNAString\"</b>. And as a result you are able to get an <b>\"AAString\"</b></p>"
   ]
  },
  {
   "cell_type": "markdown",
   "metadata": {},
   "source": [
    "<h3>Sequence handling</h3>"
   ]
  },
  {
   "cell_type": "markdown",
   "metadata": {},
   "source": [
    "<h4>From a set to a single sequence</h4>"
   ]
  },
  {
   "cell_type": "code",
   "execution_count": 85,
   "metadata": {},
   "outputs": [],
   "source": [
    "# Create zikv with one collated sequence using `zikaVirus`\n",
    "zikv <- unlist(zikaVirus_genome)"
   ]
  },
  {
   "cell_type": "code",
   "execution_count": 86,
   "metadata": {},
   "outputs": [
    {
     "data": {
      "text/html": [
       "1"
      ],
      "text/latex": [
       "1"
      ],
      "text/markdown": [
       "1"
      ],
      "text/plain": [
       "[1] 1"
      ]
     },
     "metadata": {},
     "output_type": "display_data"
    },
    {
     "data": {
      "text/html": [
       "10794"
      ],
      "text/latex": [
       "10794"
      ],
      "text/markdown": [
       "10794"
      ],
      "text/plain": [
       "[1] 10794"
      ]
     },
     "metadata": {},
     "output_type": "display_data"
    }
   ],
   "source": [
    "# Check the length of zikaVirus_genome and zikv\n",
    "length(zikaVirus_genome)\n",
    "length(zikv)"
   ]
  },
  {
   "cell_type": "code",
   "execution_count": 87,
   "metadata": {},
   "outputs": [
    {
     "data": {
      "text/html": [
       "10794"
      ],
      "text/latex": [
       "10794"
      ],
      "text/markdown": [
       "10794"
      ],
      "text/plain": [
       "[1] 10794"
      ]
     },
     "metadata": {},
     "output_type": "display_data"
    }
   ],
   "source": [
    "# Check the width of zikaVirus_genome\n",
    "width(zikaVirus_genome)"
   ]
  },
  {
   "cell_type": "code",
   "execution_count": 89,
   "metadata": {},
   "outputs": [
    {
     "data": {
      "text/plain": [
       "  30-letter \"DNAString\" instance\n",
       "seq: AGTTGTTGATCTGTGTGAGTCAGACTGCGA"
      ]
     },
     "metadata": {},
     "output_type": "display_data"
    }
   ],
   "source": [
    "# Subset zikv to only the first 30 bases\n",
    "subZikv <- subseq(zikv, end = 30)\n",
    "subZikv"
   ]
  },
  {
   "cell_type": "markdown",
   "metadata": {},
   "source": [
    "<h4>Common sequence manipulation functions</h4>"
   ]
  },
  {
   "cell_type": "code",
   "execution_count": 95,
   "metadata": {},
   "outputs": [
    {
     "data": {
      "text/plain": [
       "  10794-letter \"DNAString\" instance\n",
       "seq: TCTTTGGTACCTAAAGGGGTGTGGCCGGCGGCTTCA...CTTGACAGCGTCAGACTGAGTGTGTCTAGTTGTTGA"
      ]
     },
     "metadata": {},
     "output_type": "display_data"
    }
   ],
   "source": [
    "# Reverse the zikv sequence\n",
    "reverse(zikv)"
   ]
  },
  {
   "cell_type": "code",
   "execution_count": 96,
   "metadata": {},
   "outputs": [
    {
     "data": {
      "text/plain": [
       "  10794-letter \"DNAString\" instance\n",
       "seq: TCAACAACTAGACACACTCAGTCTGACGCTGTCAAG...TGAAGCCGCCGGCCACACCCCTTTAGGTACCAAAGA"
      ]
     },
     "metadata": {},
     "output_type": "display_data"
    }
   ],
   "source": [
    "# Complement the zikv sequence\n",
    "complement(zikv)"
   ]
  },
  {
   "cell_type": "code",
   "execution_count": 97,
   "metadata": {},
   "outputs": [
    {
     "data": {
      "text/plain": [
       "  10794-letter \"DNAString\" instance\n",
       "seq: AGAAACCATGGATTTCCCCACACCGGCCGCCGAAGT...GAACTGTCGCAGTCTGACTCACACAGATCAACAACT"
      ]
     },
     "metadata": {},
     "output_type": "display_data"
    }
   ],
   "source": [
    "# Reverse complement the zikv sequence\n",
    "reverseComplement(zikv)"
   ]
  },
  {
   "cell_type": "code",
   "execution_count": 98,
   "metadata": {},
   "outputs": [
    {
     "data": {
      "text/plain": [
       "  3598-letter \"AAString\" instance\n",
       "seq: SC*SV*VRLRQFESEARANNSINRFNLDLETRVSGH...AY*RGKDQRLHEFPPRWPPGTDRRTSAAGVGKSMVS"
      ]
     },
     "metadata": {},
     "output_type": "display_data"
    }
   ],
   "source": [
    "# Translate the zikv sequence\n",
    "translate(zikv)"
   ]
  },
  {
   "cell_type": "markdown",
   "metadata": {},
   "source": [
    "<h3>Searching for a pattern</h3>"
   ]
  },
  {
   "cell_type": "markdown",
   "metadata": {},
   "source": [
    "<p>Let's find some occurrences of a pattern in the <i>zikaVirus_genome</i> set using <b>vmatchPattern()</b>. Then, let's try the same pattern search using <b>matchPattern()</b> with a single sequence, <i>zikv</i>.</p>"
   ]
  },
  {
   "cell_type": "code",
   "execution_count": 100,
   "metadata": {},
   "outputs": [
    {
     "data": {
      "text/plain": [
       "MIndex object of length 1\n",
       "$`NC_012532.1 Zika virus, complete genome`\n",
       "IRanges object with 1 range and 0 metadata columns:\n",
       "          start       end     width\n",
       "      <integer> <integer> <integer>\n",
       "  [1]      8561      8580        20\n"
      ]
     },
     "metadata": {},
     "output_type": "display_data"
    }
   ],
   "source": [
    "# For Sets\n",
    "vmatchPattern(pattern = \"ACATGGGCCTACCATGGGAG\", \n",
    "              subject = zikaVirus_genome, max.mismatch = 1)"
   ]
  },
  {
   "cell_type": "code",
   "execution_count": 101,
   "metadata": {},
   "outputs": [
    {
     "data": {
      "text/plain": [
       "  Views on a 10794-letter DNAString subject\n",
       "subject: AGTTGTTGATCTGTGTGAGTCAGACTGCGACAGT...TTCGGCGGCCGGTGTGGGGAAATCCATGGTTTCT\n",
       "views:\n",
       "    start  end width\n",
       "[1]  8561 8580    20 [ACATGGGCCTACCATGGGAG]"
      ]
     },
     "metadata": {},
     "output_type": "display_data"
    }
   ],
   "source": [
    "# For single sequences\n",
    "matchPattern(pattern = \"ACATGGGCCTACCATGGGAG\", \n",
    "              subject = zikv, max.mismatch = 1)"
   ]
  },
  {
   "cell_type": "markdown",
   "metadata": {},
   "source": [
    "<p>There is one exact match of 20 letters. The results are the same because, in this example, our set has only one sequence.</p>"
   ]
  },
  {
   "cell_type": "markdown",
   "metadata": {},
   "source": [
    "<h3>Finding Palindromes</h3>"
   ]
  },
  {
   "cell_type": "code",
   "execution_count": 104,
   "metadata": {
    "scrolled": true
   },
   "outputs": [
    {
     "data": {
      "text/plain": [
       "  Views on a 10794-letter DNAString subject\n",
       "subject: AGTTGTTGATCTGTGTGAGTCAGACTGCGACAGT...TTCGGCGGCCGGTGTGGGGAAATCCATGGTTTCT\n",
       "views:\n",
       "     start   end width\n",
       " [1]    18    26     9 [AGTCAGACT]\n",
       " [2]   137   144     8 [ATCCGGAT]\n",
       " [3]   143   151     9 [ATTGTCAAT]\n",
       " [4]   363   370     8 [AAGATCTT]\n",
       " [5]   464   471     8 [GCCATGGC]\n",
       " ...   ...   ...   ... ...\n",
       "[79] 10482 10489     8 [GCCATGGC]\n",
       "[80] 10518 10526     9 [CCTCAGAGG]\n",
       "[81] 10734 10744    11 [CTGGCCGCCAG]\n",
       "[82] 10753 10767    15 [CGCCGAACTTCGGCG]\n",
       "[83] 10763 10771     9 [CGGCGGCCG]"
      ]
     },
     "metadata": {},
     "output_type": "display_data"
    }
   ],
   "source": [
    "# Find palindromes in zikv\n",
    "findPalindromes(zikv)"
   ]
  },
  {
   "cell_type": "markdown",
   "metadata": {},
   "source": [
    "## 3. IRanges and GenomicRanges"
   ]
  },
  {
   "cell_type": "markdown",
   "metadata": {},
   "source": [
    "<p>The IRanges and GenomicRanges packages are also containers for storing and manipulating genomic intervals and variables defined along a genome. These packages provide infrastructure and support to many other Bioconductor packages because of their enriching features. We will discover how to use these containers and their associated metadata, for manipulation of our sequences.</p>"
   ]
  },
  {
   "cell_type": "code",
   "execution_count": 19,
   "metadata": {},
   "outputs": [
    {
     "name": "stderr",
     "output_type": "stream",
     "text": [
      "Bioconductor version 3.10 (BiocManager 1.30.10), R 3.6.1 (2019-07-05)\n",
      "\n",
      "Installing package(s) 'IRanges'\n",
      "\n"
     ]
    },
    {
     "name": "stdout",
     "output_type": "stream",
     "text": [
      "\n",
      "The downloaded binary packages are in\n",
      "\t/var/folders/5j/91qghkgd3k387sfm9f5m0fym0000gn/T//Rtmpx2TDEe/downloaded_packages\n"
     ]
    },
    {
     "name": "stderr",
     "output_type": "stream",
     "text": [
      "Old packages: 'Hmisc', 'MASS', 'RcppArmadillo', 'backports', 'bit64', 'callr',\n",
      "  'conquer', 'cowplot', 'cpp11', 'data.table', 'dendextend', 'dplyr', 'glue',\n",
      "  'h2o', 'jsonlite', 'lmtest', 'maptools', 'mgcv', 'nlme', 'processx', 'ps',\n",
      "  'quantreg', 'questionr', 'rgeos', 'sf', 'stringi', 'systemfonts', 'tidyr',\n",
      "  'vctrs', 'xfun', 'xts'\n",
      "\n"
     ]
    }
   ],
   "source": [
    "BiocManager::install(\"IRanges\")"
   ]
  },
  {
   "cell_type": "code",
   "execution_count": 20,
   "metadata": {},
   "outputs": [],
   "source": [
    "# load package IRanges\n",
    "library(IRanges)"
   ]
  },
  {
   "cell_type": "markdown",
   "metadata": {},
   "source": [
    "<h3>Constructing IRanges</h3>"
   ]
  },
  {
   "cell_type": "markdown",
   "metadata": {},
   "source": [
    "<p>The <b>IRanges()</b> constructor indicates that all of the parameters are optional with default NULL:</p>\n",
    "<code>IRanges(start = NULL, end = NULL, width = NULL, names = NULL)\n",
    "</code>"
   ]
  },
  {
   "cell_type": "code",
   "execution_count": 21,
   "metadata": {},
   "outputs": [
    {
     "data": {
      "text/plain": [
       "IRanges object with 5 ranges and 0 metadata columns:\n",
       "          start       end     width\n",
       "      <integer> <integer> <integer>\n",
       "  [1]         1       100       100\n",
       "  [2]         2       100        99\n",
       "  [3]         3       100        98\n",
       "  [4]         4       100        97\n",
       "  [5]         5       100        96"
      ]
     },
     "metadata": {},
     "output_type": "display_data"
    }
   ],
   "source": [
    "# start vector 1 through 5, end 100 \n",
    "IRnum1 <- IRanges(start = 1:5, end = 100)\n",
    "IRnum1"
   ]
  },
  {
   "cell_type": "code",
   "execution_count": 22,
   "metadata": {},
   "outputs": [
    {
     "data": {
      "text/plain": [
       "IRanges object with 2 ranges and 0 metadata columns:\n",
       "          start       end     width\n",
       "      <integer> <integer> <integer>\n",
       "  [1]        12       100        89\n",
       "  [2]        91       100        10"
      ]
     },
     "metadata": {},
     "output_type": "display_data"
    }
   ],
   "source": [
    "# end 100, width 89 and 10\n",
    "IRnum2 <- IRanges(end = 100, width = c(89, 10))\n",
    "IRnum2"
   ]
  },
  {
   "cell_type": "code",
   "execution_count": 23,
   "metadata": {},
   "outputs": [
    {
     "data": {
      "text/plain": [
       "IRanges object with 2 ranges and 0 metadata columns:\n",
       "          start       end     width\n",
       "      <integer> <integer> <integer>\n",
       "  [1]         2         4         3\n",
       "  [2]         6         8         3"
      ]
     },
     "metadata": {},
     "output_type": "display_data"
    }
   ],
   "source": [
    "# logical argument start = Rle(c(F, T, T, T, F, T, T, T))\n",
    "IRlog1 <- IRanges(start = Rle(c(F, T, T, T, F, T, T, T)))\n",
    "IRlog1"
   ]
  },
  {
   "cell_type": "code",
   "execution_count": 24,
   "metadata": {},
   "outputs": [
    {
     "name": "stdout",
     "output_type": "stream",
     "text": [
      "$IRnum1\n",
      "IRanges object with 5 ranges and 0 metadata columns:\n",
      "          start       end     width\n",
      "      <integer> <integer> <integer>\n",
      "  [1]         1       100       100\n",
      "  [2]         2       100        99\n",
      "  [3]         3       100        98\n",
      "  [4]         4       100        97\n",
      "  [5]         5       100        96\n",
      "\n",
      "$IRnum2\n",
      "IRanges object with 2 ranges and 0 metadata columns:\n",
      "          start       end     width\n",
      "      <integer> <integer> <integer>\n",
      "  [1]        12       100        89\n",
      "  [2]        91       100        10\n",
      "\n",
      "$IRlog1\n",
      "IRanges object with 2 ranges and 0 metadata columns:\n",
      "          start       end     width\n",
      "      <integer> <integer> <integer>\n",
      "  [1]         2         4         3\n",
      "  [2]         6         8         3\n",
      "\n"
     ]
    }
   ],
   "source": [
    "# Printing objects in a list\n",
    "print(list(IRnum1 = IRnum1, IRnum2 = IRnum2, IRlog1 = IRlog1))"
   ]
  },
  {
   "cell_type": "markdown",
   "metadata": {},
   "source": [
    "<h3>Interacting with IRanges</h3>"
   ]
  },
  {
   "cell_type": "code",
   "execution_count": 25,
   "metadata": {},
   "outputs": [
    {
     "data": {
      "text/plain": [
       "IRanges object with 1 range and 0 metadata columns:\n",
       "          start       end     width\n",
       "      <integer> <integer> <integer>\n",
       "  [1]        10        37        28"
      ]
     },
     "metadata": {},
     "output_type": "display_data"
    }
   ],
   "source": [
    "# Create the first sequence seq_1\n",
    "seq_1 <- IRanges(start = 10, end = 37)\n",
    "seq_1"
   ]
  },
  {
   "cell_type": "code",
   "execution_count": 26,
   "metadata": {},
   "outputs": [
    {
     "data": {
      "text/plain": [
       "IRanges object with 3 ranges and 0 metadata columns:\n",
       "        start       end     width\n",
       "    <integer> <integer> <integer>\n",
       "  A         5        12         8\n",
       "  B        35        39         5\n",
       "  C        50        61        12"
      ]
     },
     "metadata": {},
     "output_type": "display_data"
    }
   ],
   "source": [
    "# Create the second sequence seq_2\n",
    "seq_2 <- IRanges(start = c(5, 35, 50),\n",
    "                 end = c(12, 39, 61),\n",
    "                 names = LETTERS[1:3])\n",
    "seq_2"
   ]
  },
  {
   "cell_type": "code",
   "execution_count": 27,
   "metadata": {},
   "outputs": [
    {
     "data": {
      "text/html": [
       "28"
      ],
      "text/latex": [
       "28"
      ],
      "text/markdown": [
       "28"
      ],
      "text/plain": [
       "[1] 28"
      ]
     },
     "metadata": {},
     "output_type": "display_data"
    },
    {
     "data": {
      "text/html": [
       "<style>\n",
       ".list-inline {list-style: none; margin:0; padding: 0}\n",
       ".list-inline>li {display: inline-block}\n",
       ".list-inline>li:not(:last-child)::after {content: \"\\00b7\"; padding: 0 .5ex}\n",
       "</style>\n",
       "<ol class=list-inline><li>8</li><li>5</li><li>12</li></ol>\n"
      ],
      "text/latex": [
       "\\begin{enumerate*}\n",
       "\\item 8\n",
       "\\item 5\n",
       "\\item 12\n",
       "\\end{enumerate*}\n"
      ],
      "text/markdown": [
       "1. 8\n",
       "2. 5\n",
       "3. 12\n",
       "\n",
       "\n"
      ],
      "text/plain": [
       "[1]  8  5 12"
      ]
     },
     "metadata": {},
     "output_type": "display_data"
    }
   ],
   "source": [
    "# Check the width of seq_1 and seq_2\n",
    "width(seq_1)\n",
    "width(seq_2)"
   ]
  },
  {
   "cell_type": "code",
   "execution_count": 29,
   "metadata": {},
   "outputs": [
    {
     "data": {
      "text/html": [
       "28"
      ],
      "text/latex": [
       "28"
      ],
      "text/markdown": [
       "28"
      ],
      "text/plain": [
       "[1] 28"
      ]
     },
     "metadata": {},
     "output_type": "display_data"
    },
    {
     "data": {
      "text/html": [
       "<style>\n",
       ".dl-inline {width: auto; margin:0; padding: 0}\n",
       ".dl-inline>dt, .dl-inline>dd {float: none; width: auto; display: inline-block}\n",
       ".dl-inline>dt::after {content: \":\\0020\"; padding-right: .5ex}\n",
       ".dl-inline>dt:not(:first-of-type) {padding-left: .5ex}\n",
       "</style><dl class=dl-inline><dt>A</dt><dd>8</dd><dt>B</dt><dd>5</dd><dt>C</dt><dd>12</dd></dl>\n"
      ],
      "text/latex": [
       "\\begin{description*}\n",
       "\\item[A] 8\n",
       "\\item[B] 5\n",
       "\\item[C] 12\n",
       "\\end{description*}\n"
      ],
      "text/markdown": [
       "A\n",
       ":   8B\n",
       ":   5C\n",
       ":   12\n",
       "\n"
      ],
      "text/plain": [
       " A  B  C \n",
       " 8  5 12 "
      ]
     },
     "metadata": {},
     "output_type": "display_data"
    }
   ],
   "source": [
    "# Check the lengths of seq_1 and seq_2\n",
    "lengths(seq_1)\n",
    "lengths(seq_2)"
   ]
  },
  {
   "cell_type": "markdown",
   "metadata": {},
   "source": [
    "<h3>From tabular data to Genomic Ranges</h3>"
   ]
  },
  {
   "cell_type": "code",
   "execution_count": 30,
   "metadata": {},
   "outputs": [
    {
     "name": "stderr",
     "output_type": "stream",
     "text": [
      "Bioconductor version 3.10 (BiocManager 1.30.10), R 3.6.1 (2019-07-05)\n",
      "\n",
      "Installing package(s) 'GenomicRanges'\n",
      "\n"
     ]
    },
    {
     "name": "stdout",
     "output_type": "stream",
     "text": [
      "\n",
      "The downloaded binary packages are in\n",
      "\t/var/folders/5j/91qghkgd3k387sfm9f5m0fym0000gn/T//Rtmpx2TDEe/downloaded_packages\n"
     ]
    },
    {
     "name": "stderr",
     "output_type": "stream",
     "text": [
      "Old packages: 'Hmisc', 'MASS', 'RcppArmadillo', 'backports', 'bit64', 'callr',\n",
      "  'conquer', 'cowplot', 'cpp11', 'data.table', 'dendextend', 'dplyr', 'glue',\n",
      "  'h2o', 'jsonlite', 'lmtest', 'maptools', 'mgcv', 'nlme', 'processx', 'ps',\n",
      "  'quantreg', 'questionr', 'rgeos', 'sf', 'stringi', 'systemfonts', 'tidyr',\n",
      "  'vctrs', 'xfun', 'xts'\n",
      "\n"
     ]
    }
   ],
   "source": [
    "BiocManager::install(\"GenomicRanges\")"
   ]
  },
  {
   "cell_type": "code",
   "execution_count": 31,
   "metadata": {},
   "outputs": [],
   "source": [
    "# Load package GenomicRanges\n",
    "library(GenomicRanges)"
   ]
  },
  {
   "cell_type": "code",
   "execution_count": 33,
   "metadata": {},
   "outputs": [
    {
     "data": {
      "text/html": [
       "<table>\n",
       "<caption>A data.frame: 4 × 3</caption>\n",
       "<thead>\n",
       "\t<tr><th scope=col>seqnames</th><th scope=col>start</th><th scope=col>end</th></tr>\n",
       "\t<tr><th scope=col>&lt;fct&gt;</th><th scope=col>&lt;int&gt;</th><th scope=col>&lt;int&gt;</th></tr>\n",
       "</thead>\n",
       "<tbody>\n",
       "\t<tr><td>chrI </td><td>11</td><td>36</td></tr>\n",
       "\t<tr><td>chrI </td><td>12</td><td>37</td></tr>\n",
       "\t<tr><td>chrII</td><td>13</td><td>38</td></tr>\n",
       "\t<tr><td>chrII</td><td>14</td><td>39</td></tr>\n",
       "</tbody>\n",
       "</table>\n"
      ],
      "text/latex": [
       "A data.frame: 4 × 3\n",
       "\\begin{tabular}{lll}\n",
       " seqnames & start & end\\\\\n",
       " <fct> & <int> & <int>\\\\\n",
       "\\hline\n",
       "\t chrI  & 11 & 36\\\\\n",
       "\t chrI  & 12 & 37\\\\\n",
       "\t chrII & 13 & 38\\\\\n",
       "\t chrII & 14 & 39\\\\\n",
       "\\end{tabular}\n"
      ],
      "text/markdown": [
       "\n",
       "A data.frame: 4 × 3\n",
       "\n",
       "| seqnames &lt;fct&gt; | start &lt;int&gt; | end &lt;int&gt; |\n",
       "|---|---|---|\n",
       "| chrI  | 11 | 36 |\n",
       "| chrI  | 12 | 37 |\n",
       "| chrII | 13 | 38 |\n",
       "| chrII | 14 | 39 |\n",
       "\n"
      ],
      "text/plain": [
       "  seqnames start end\n",
       "1 chrI     11    36 \n",
       "2 chrI     12    37 \n",
       "3 chrII    13    38 \n",
       "4 chrII    14    39 "
      ]
     },
     "metadata": {},
     "output_type": "display_data"
    }
   ],
   "source": [
    "# Predefined seq_intervals data frame to transform into a GRanges object using the as() function.\n",
    "seq_intervals <- data.frame(\"seqnames\" = c(\"chrI\", \"chrI\", \"chrII\", \"chrII\"), \"start\" = 11:14, \"end\" = 36:39)\n",
    "seq_intervals"
   ]
  },
  {
   "cell_type": "code",
   "execution_count": 37,
   "metadata": {},
   "outputs": [
    {
     "data": {
      "text/plain": [
       "GRanges object with 4 ranges and 0 metadata columns:\n",
       "      seqnames    ranges strand\n",
       "         <Rle> <IRanges>  <Rle>\n",
       "  [1]     chrI     11-36      *\n",
       "  [2]     chrI     12-37      *\n",
       "  [3]    chrII     13-38      *\n",
       "  [4]    chrII     14-39      *\n",
       "  -------\n",
       "  seqinfo: 2 sequences from an unspecified genome; no seqlengths"
      ]
     },
     "metadata": {},
     "output_type": "display_data"
    }
   ],
   "source": [
    "# Create myGR\n",
    "myGR <- as(seq_intervals, \"GRanges\")\n",
    "myGR"
   ]
  },
  {
   "cell_type": "markdown",
   "metadata": {},
   "source": [
    "<h4>Complete list of GenomicRanges accessors</h4>"
   ]
  },
  {
   "cell_type": "code",
   "execution_count": 35,
   "metadata": {},
   "outputs": [
    {
     "data": {
      "text/plain": [
       "  [1] !                                     \n",
       "  [2] !=                                    \n",
       "  [3] $                                     \n",
       "  [4] $<-                                   \n",
       "  [5] %in%                                  \n",
       "  [6] <                                     \n",
       "  [7] <=                                    \n",
       "  [8] ==                                    \n",
       "  [9] >                                     \n",
       " [10] >=                                    \n",
       " [11] FactorToClass                         \n",
       " [12] Filter                                \n",
       " [13] NROW                                  \n",
       " [14] Ops                                   \n",
       " [15] ROWNAMES                              \n",
       " [16] Reduce                                \n",
       " [17] [                                     \n",
       " [18] [<-                                   \n",
       " [19] [[                                    \n",
       " [20] [[<-                                  \n",
       " [21] aggregate                             \n",
       " [22] anyDuplicated                         \n",
       " [23] anyNA                                 \n",
       " [24] append                                \n",
       " [25] as.character                          \n",
       " [26] as.complex                            \n",
       " [27] as.data.frame                         \n",
       " [28] as.env                                \n",
       " [29] as.factor                             \n",
       " [30] as.integer                            \n",
       " [31] as.list                               \n",
       " [32] as.logical                            \n",
       " [33] as.matrix                             \n",
       " [34] as.numeric                            \n",
       " [35] as.raw                                \n",
       " [36] bindROWS                              \n",
       " [37] blocks                                \n",
       " [38] browseGenome                          \n",
       " [39] by                                    \n",
       " [40] c                                     \n",
       " [41] cbind                                 \n",
       " [42] chrom                                 \n",
       " [43] chrom<-                               \n",
       " [44] coerce                                \n",
       " [45] countOverlaps                         \n",
       " [46] coverage                              \n",
       " [47] disjoin                               \n",
       " [48] disjointBins                          \n",
       " [49] distance                              \n",
       " [50] distanceToNearest                     \n",
       " [51] do.call                               \n",
       " [52] droplevels                            \n",
       " [53] duplicated                            \n",
       " [54] elementMetadata                       \n",
       " [55] elementMetadata<-                     \n",
       " [56] elementNROWS                          \n",
       " [57] elementType                           \n",
       " [58] end                                   \n",
       " [59] end<-                                 \n",
       " [60] eval                                  \n",
       " [61] expand                                \n",
       " [62] expand.grid                           \n",
       " [63] export                                \n",
       " [64] extractROWS                           \n",
       " [65] findOverlaps                          \n",
       " [66] flank                                 \n",
       " [67] follow                                \n",
       " [68] gaps                                  \n",
       " [69] getListElement                        \n",
       " [70] granges                               \n",
       " [71] head                                  \n",
       " [72] ifelse2                               \n",
       " [73] intersect                             \n",
       " [74] is.na                                 \n",
       " [75] is.unsorted                           \n",
       " [76] isDisjoint                            \n",
       " [77] isEmpty                               \n",
       " [78] lapply                                \n",
       " [79] length                                \n",
       " [80] lengths                               \n",
       " [81] liftOver                              \n",
       " [82] match                                 \n",
       " [83] mcols                                 \n",
       " [84] mcols<-                               \n",
       " [85] merge                                 \n",
       " [86] mergeROWS                             \n",
       " [87] metadata                              \n",
       " [88] metadata<-                            \n",
       " [89] mid                                   \n",
       " [90] mstack                                \n",
       " [91] names                                 \n",
       " [92] names<-                               \n",
       " [93] nearest                               \n",
       " [94] normalizeSingleBracketReplacementValue\n",
       " [95] order                                 \n",
       " [96] overlapsAny                           \n",
       " [97] parallelSlotNames                     \n",
       " [98] parallelVectorNames                   \n",
       " [99] pcompare                              \n",
       "[100] pcompareRecursively                   \n",
       "[101] pgap                                  \n",
       "[102] pintersect                            \n",
       "[103] poverlaps                             \n",
       "[104] precede                               \n",
       "[105] promoters                             \n",
       "[106] psetdiff                              \n",
       "[107] punion                                \n",
       "[108] range                                 \n",
       "[109] ranges                                \n",
       "[110] ranges<-                              \n",
       "[111] rank                                  \n",
       "[112] rbind                                 \n",
       "[113] reduce                                \n",
       "[114] relist                                \n",
       "[115] relistToClass                         \n",
       "[116] rename                                \n",
       "[117] rep                                   \n",
       "[118] rep.int                               \n",
       "[119] replaceROWS                           \n",
       "[120] resize                                \n",
       "[121] restrict                              \n",
       "[122] rev                                   \n",
       "[123] revElements                           \n",
       "[124] sapply                                \n",
       "[125] score                                 \n",
       "[126] score<-                               \n",
       "[127] selfmatch                             \n",
       "[128] seqinfo                               \n",
       "[129] seqinfo<-                             \n",
       "[130] seqlevelsInUse                        \n",
       "[131] seqnames                              \n",
       "[132] seqnames<-                            \n",
       "[133] setListElement                        \n",
       "[134] setdiff                               \n",
       "[135] setequal                              \n",
       "[136] shift                                 \n",
       "[137] shiftApply                            \n",
       "[138] show                                  \n",
       "[139] showAsCell                            \n",
       "[140] slidingWindows                        \n",
       "[141] sort                                  \n",
       "[142] split                                 \n",
       "[143] split<-                               \n",
       "[144] stack                                 \n",
       "[145] start                                 \n",
       "[146] start<-                               \n",
       "[147] strand                                \n",
       "[148] strand<-                              \n",
       "[149] subset                                \n",
       "[150] subsetByOverlaps                      \n",
       "[151] summary                               \n",
       "[152] table                                 \n",
       "[153] tail                                  \n",
       "[154] tapply                                \n",
       "[155] tile                                  \n",
       "[156] transform                             \n",
       "[157] trim                                  \n",
       "[158] union                                 \n",
       "[159] unique                                \n",
       "[160] unlist                                \n",
       "[161] unsplit                               \n",
       "[162] update                                \n",
       "[163] updateObject                          \n",
       "[164] update_ranges                         \n",
       "[165] values                                \n",
       "[166] values<-                              \n",
       "[167] width                                 \n",
       "[168] width<-                               \n",
       "[169] window                                \n",
       "[170] window<-                              \n",
       "[171] windows                               \n",
       "[172] with                                  \n",
       "[173] within                                \n",
       "[174] xtabs                                 \n",
       "[175] xtfrm                                 \n",
       "[176] zipdown                               \n",
       "see '?methods' for accessing help and source code"
      ]
     },
     "metadata": {},
     "output_type": "display_data"
    }
   ],
   "source": [
    "methods(class = \"GRanges\")"
   ]
  },
  {
   "cell_type": "markdown",
   "metadata": {},
   "source": [
    "<p>The following are some of the basic accessors for GRanges:</p>\n",
    "<code>seqnames(gr)\n",
    "ranges(gr)\n",
    "mcols(gr)\n",
    "genome(gr)\n",
    "seqinfo(gr)</code>"
   ]
  },
  {
   "cell_type": "code",
   "execution_count": 38,
   "metadata": {},
   "outputs": [
    {
     "data": {
      "text/plain": [
       "Seqinfo object with 2 sequences from an unspecified genome; no seqlengths:\n",
       "  seqnames seqlengths isCircular genome\n",
       "  chrI             NA         NA   <NA>\n",
       "  chrII            NA         NA   <NA>"
      ]
     },
     "metadata": {},
     "output_type": "display_data"
    }
   ],
   "source": [
    "# Print the seqinfo of object myGR\n",
    "seqinfo(myGR)"
   ]
  },
  {
   "cell_type": "code",
   "execution_count": 39,
   "metadata": {},
   "outputs": [
    {
     "data": {
      "text/plain": [
       "DataFrame with 4 rows and 0 columns"
      ]
     },
     "metadata": {},
     "output_type": "display_data"
    }
   ],
   "source": [
    "# Check the metadata, if any\n",
    "mcols(myGR)"
   ]
  },
  {
   "cell_type": "markdown",
   "metadata": {},
   "source": [
    "<h3>Human genome chromosome X</h3>"
   ]
  },
  {
   "cell_type": "markdown",
   "metadata": {},
   "source": [
    "<p>Remember that <i>filter</i> receives a <i>list()</i> of filter conditions to select specific genome intervals.</p>"
   ]
  },
  {
   "cell_type": "markdown",
   "metadata": {},
   "source": [
    "<p>If you would like to test other filters, valid names for this list are: <i>\"gene_id\", \"tx_id\", \"tx_name\", \"tx_chrom\", \"tx_strand\", \"exon_id\", \"exon_name\", \"exon_chrom\", \"exon_strand\", \"cds_id\", \"cds_name\", \"cds_chrom\", \"cds_strand\"</i>, and <i>\"exon_rank\"</i>.</p>"
   ]
  },
  {
   "cell_type": "code",
   "execution_count": 41,
   "metadata": {},
   "outputs": [
    {
     "name": "stderr",
     "output_type": "stream",
     "text": [
      "Bioconductor version 3.10 (BiocManager 1.30.10), R 3.6.1 (2019-07-05)\n",
      "\n",
      "Installing package(s) 'TxDb.Hsapiens.UCSC.hg38.knownGene'\n",
      "\n",
      "also installing the dependency ‘GenomicFeatures’\n",
      "\n",
      "\n"
     ]
    },
    {
     "name": "stdout",
     "output_type": "stream",
     "text": [
      "\n",
      "The downloaded binary packages are in\n",
      "\t/var/folders/5j/91qghkgd3k387sfm9f5m0fym0000gn/T//Rtmpx2TDEe/downloaded_packages\n"
     ]
    },
    {
     "name": "stderr",
     "output_type": "stream",
     "text": [
      "installing the source package ‘TxDb.Hsapiens.UCSC.hg38.knownGene’\n",
      "\n",
      "\n",
      "Old packages: 'Hmisc', 'MASS', 'RcppArmadillo', 'backports', 'bit64', 'callr',\n",
      "  'conquer', 'cowplot', 'cpp11', 'data.table', 'dendextend', 'dplyr', 'glue',\n",
      "  'h2o', 'jsonlite', 'lmtest', 'maptools', 'mgcv', 'nlme', 'processx', 'ps',\n",
      "  'quantreg', 'questionr', 'rgeos', 'sf', 'stringi', 'systemfonts', 'tidyr',\n",
      "  'vctrs', 'xfun', 'xts'\n",
      "\n"
     ]
    }
   ],
   "source": [
    "BiocManager::install(\"TxDb.Hsapiens.UCSC.hg38.knownGene\")"
   ]
  },
  {
   "cell_type": "code",
   "execution_count": 42,
   "metadata": {},
   "outputs": [
    {
     "name": "stderr",
     "output_type": "stream",
     "text": [
      "Loading required package: GenomicFeatures\n",
      "\n",
      "Warning message:\n",
      "“package ‘GenomicFeatures’ was built under R version 3.6.2”\n",
      "Loading required package: AnnotationDbi\n",
      "\n",
      "Loading required package: Biobase\n",
      "\n",
      "Welcome to Bioconductor\n",
      "\n",
      "    Vignettes contain introductory material; view with\n",
      "    'browseVignettes()'. To cite Bioconductor, see\n",
      "    'citation(\"Biobase\")', and for packages 'citation(\"pkgname\")'.\n",
      "\n",
      "\n"
     ]
    }
   ],
   "source": [
    "# Load human reference genome hg38\n",
    "library(TxDb.Hsapiens.UCSC.hg38.knownGene)"
   ]
  },
  {
   "cell_type": "code",
   "execution_count": 43,
   "metadata": {},
   "outputs": [
    {
     "data": {
      "text/plain": [
       "TxDb object:\n",
       "# Db type: TxDb\n",
       "# Supporting package: GenomicFeatures\n",
       "# Data source: UCSC\n",
       "# Genome: hg38\n",
       "# Organism: Homo sapiens\n",
       "# Taxonomy ID: 9606\n",
       "# UCSC Table: knownGene\n",
       "# UCSC Track: GENCODE v32\n",
       "# Resource URL: http://genome.ucsc.edu/\n",
       "# Type of Gene ID: Entrez Gene ID\n",
       "# Full dataset: yes\n",
       "# miRBase build ID: NA\n",
       "# transcript_nrow: 247541\n",
       "# exon_nrow: 687521\n",
       "# cds_nrow: 302763\n",
       "# Db created by: GenomicFeatures package from Bioconductor\n",
       "# Creation time: 2019-10-21 20:50:00 +0000 (Mon, 21 Oct 2019)\n",
       "# GenomicFeatures version at creation time: 1.37.4\n",
       "# RSQLite version at creation time: 2.1.2\n",
       "# DBSCHEMAVERSION: 1.2"
      ]
     },
     "metadata": {},
     "output_type": "display_data"
    }
   ],
   "source": [
    "# Assign hg38 to hg, then print it\n",
    "hg <- TxDb.Hsapiens.UCSC.hg38.knownGene\n",
    "hg"
   ]
  },
  {
   "cell_type": "code",
   "execution_count": 44,
   "metadata": {},
   "outputs": [
    {
     "data": {
      "text/plain": [
       "GRanges object with 1067 ranges and 1 metadata column:\n",
       "            seqnames              ranges strand |     gene_id\n",
       "               <Rle>           <IRanges>  <Rle> | <character>\n",
       "      10009     chrX 120250752-120258398      + |       10009\n",
       "  100093698     chrX   13310652-13319933      + |   100093698\n",
       "  100124540     chrX   47388649-47388777      + |   100124540\n",
       "  100126270     chrX 147909431-147911817      - |   100126270\n",
       "  100126302     chrX 134540185-134540262      - |   100126302\n",
       "        ...      ...                 ...    ... .         ...\n",
       "       9823     chrX 101655281-101659850      - |        9823\n",
       "       9843     chrX   66162549-66268867      + |        9843\n",
       "       9947     chrX 141903894-141909374      + |        9947\n",
       "       9949     chrX 110194186-110440233      - |        9949\n",
       "       9968     chrX   71118556-71142454      + |        9968\n",
       "  -------\n",
       "  seqinfo: 595 sequences (1 circular) from hg38 genome"
      ]
     },
     "metadata": {},
     "output_type": "display_data"
    }
   ],
   "source": [
    "# Extract all the genes in chromosome X as hg_chrXg, then print it\n",
    "hg_chrXg <- genes(hg, filter = list(tx_chrom = c(\"chrX\")))\n",
    "hg_chrXg"
   ]
  },
  {
   "cell_type": "code",
   "execution_count": 45,
   "metadata": {},
   "outputs": [
    {
     "data": {
      "text/plain": [
       "GRanges object with 578 ranges and 1 metadata column:\n",
       "            seqnames              ranges strand |     gene_id\n",
       "               <Rle>           <IRanges>  <Rle> | <character>\n",
       "      55344     chrX       276322-303356      + |       55344\n",
       "       6473     chrX       624344-659411      + |        6473\n",
       "       1438     chrX     1268800-1310381      + |        1438\n",
       "  100500894     chrX     1293918-1293992      + |   100500894\n",
       "       3563     chrX     1336616-1382689      + |        3563\n",
       "        ...      ...                 ...    ... .         ...\n",
       "  100302111     chrX 155457517-155457615      + |   100302111\n",
       "  100507404     chrX 155466540-155611616      + |   100507404\n",
       "      10251     chrX 155767812-155782459      + |       10251\n",
       "       6845     chrX 155881345-155943769      + |        6845\n",
       "       3581     chrX 155997581-156022236      + |        3581\n",
       "  -------\n",
       "  seqinfo: 595 sequences (1 circular) from hg38 genome"
      ]
     },
     "metadata": {},
     "output_type": "display_data"
    }
   ],
   "source": [
    "# Extract all positive stranded genes in chromosome X, assign to hg_chrXgp, then sort it\n",
    "hg_chrXgp <- genes(hg, filter = list(tx_chrom = c(\"chrX\"), tx_strand = \"+\"))\n",
    "sort(hg_chrXgp)"
   ]
  },
  {
   "cell_type": "markdown",
   "metadata": {},
   "source": [
    "<p>Similar functions used to explore genomes are <i>transcripts()</i>, <i>cds()</i>, and <i>promoters()</i></p>"
   ]
  },
  {
   "cell_type": "markdown",
   "metadata": {},
   "source": [
    "<h3>Manipulating collections of GRanges</h3>"
   ]
  },
  {
   "cell_type": "markdown",
   "metadata": {},
   "source": [
    "<h4>How many transcripts</h4>"
   ]
  },
  {
   "cell_type": "code",
   "execution_count": 46,
   "metadata": {},
   "outputs": [],
   "source": [
    "# Load the human transcripts DB to hg\n",
    "library(TxDb.Hsapiens.UCSC.hg38.knownGene)\n",
    "hg <- TxDb.Hsapiens.UCSC.hg38.knownGene"
   ]
  },
  {
   "cell_type": "code",
   "execution_count": 47,
   "metadata": {},
   "outputs": [],
   "source": [
    "# Prefilter chromosome X \"chrX\" using seqlevels()\n",
    "seqlevels(hg) <- c(\"chrX\")"
   ]
  },
  {
   "cell_type": "code",
   "execution_count": 48,
   "metadata": {},
   "outputs": [
    {
     "data": {
      "text/plain": [
       "GRangesList object of length 1071:\n",
       "$`10009`\n",
       "GRanges object with 2 ranges and 2 metadata columns:\n",
       "      seqnames              ranges strand |     tx_id           tx_name\n",
       "         <Rle>           <IRanges>  <Rle> | <integer>       <character>\n",
       "  [1]     chrX 120250752-120258398      + |    222063 ENST00000326624.2\n",
       "  [2]     chrX 120250812-120258398      + |    222064 ENST00000557385.2\n",
       "  -------\n",
       "  seqinfo: 1 sequence from hg38 genome\n",
       "\n",
       "$`100093698`\n",
       "GRanges object with 1 range and 2 metadata columns:\n",
       "      seqnames            ranges strand |     tx_id           tx_name\n",
       "         <Rle>         <IRanges>  <Rle> | <integer>       <character>\n",
       "  [1]     chrX 13310652-13319933      + |    219735 ENST00000431486.1\n",
       "  -------\n",
       "  seqinfo: 1 sequence from hg38 genome\n",
       "\n",
       "$`100124540`\n",
       "GRanges object with 1 range and 2 metadata columns:\n",
       "      seqnames            ranges strand |     tx_id           tx_name\n",
       "         <Rle>         <IRanges>  <Rle> | <integer>       <character>\n",
       "  [1]     chrX 47388649-47388777      + |    220442 ENST00000408532.1\n",
       "  -------\n",
       "  seqinfo: 1 sequence from hg38 genome\n",
       "\n",
       "...\n",
       "<1068 more elements>"
      ]
     },
     "metadata": {},
     "output_type": "display_data"
    }
   ],
   "source": [
    "# Get all transcripts by gene and print it\n",
    "hg_chrXt <- transcriptsBy(hg, by = \"gene\")\n",
    "hg_chrXt"
   ]
  },
  {
   "cell_type": "code",
   "execution_count": 49,
   "metadata": {},
   "outputs": [
    {
     "data": {
      "text/plain": [
       "GRanges object with 3 ranges and 2 metadata columns:\n",
       "      seqnames              ranges strand |     tx_id           tx_name\n",
       "         <Rle>           <IRanges>  <Rle> | <integer>       <character>\n",
       "  [1]     chrX 153724856-153744755      + |    222771 ENST00000218104.6\n",
       "  [2]     chrX 153725817-153729897      + |    222772 ENST00000370129.4\n",
       "  [3]     chrX 153735344-153740604      + |    222773 ENST00000443684.2\n",
       "  -------\n",
       "  seqinfo: 1 sequence from hg38 genome"
      ]
     },
     "metadata": {},
     "output_type": "display_data"
    }
   ],
   "source": [
    "# Select gene `215` from the transcripts\n",
    "hg_chrXt$`215`"
   ]
  },
  {
   "cell_type": "markdown",
   "metadata": {},
   "source": [
    "## 4. Introducing ShortRead"
   ]
  },
  {
   "cell_type": "markdown",
   "metadata": {},
   "source": [
    "<p>ShortRead is the package for input, manipulation and assessment of fasta and fastq files. We can subset, trim and filter the sequences of interest, and even do a report of quality. </p>"
   ]
  },
  {
   "cell_type": "code",
   "execution_count": 53,
   "metadata": {},
   "outputs": [
    {
     "name": "stderr",
     "output_type": "stream",
     "text": [
      "Bioconductor version 3.10 (BiocManager 1.30.10), R 3.6.1 (2019-07-05)\n",
      "\n",
      "Installing package(s) 'ShortRead'\n",
      "\n",
      "also installing the dependency ‘hwriter’\n",
      "\n",
      "\n"
     ]
    },
    {
     "name": "stdout",
     "output_type": "stream",
     "text": [
      "\n",
      "The downloaded binary packages are in\n",
      "\t/var/folders/5j/91qghkgd3k387sfm9f5m0fym0000gn/T//Rtmpx2TDEe/downloaded_packages\n"
     ]
    },
    {
     "name": "stderr",
     "output_type": "stream",
     "text": [
      "Old packages: 'Hmisc', 'MASS', 'RcppArmadillo', 'backports', 'bit64', 'callr',\n",
      "  'conquer', 'cowplot', 'cpp11', 'data.table', 'dendextend', 'dplyr', 'glue',\n",
      "  'h2o', 'jsonlite', 'lmtest', 'maptools', 'mgcv', 'nlme', 'processx', 'ps',\n",
      "  'quantreg', 'questionr', 'rgeos', 'sf', 'stringi', 'systemfonts', 'tidyr',\n",
      "  'vctrs', 'xfun', 'xts'\n",
      "\n"
     ]
    }
   ],
   "source": [
    "BiocManager::install(\"ShortRead\")"
   ]
  },
  {
   "cell_type": "code",
   "execution_count": 54,
   "metadata": {},
   "outputs": [
    {
     "name": "stderr",
     "output_type": "stream",
     "text": [
      "Warning message:\n",
      "“package ‘ShortRead’ was built under R version 3.6.2”\n",
      "Loading required package: BiocParallel\n",
      "\n",
      "Warning message:\n",
      "“package ‘BiocParallel’ was built under R version 3.6.2”\n",
      "Loading required package: Rsamtools\n",
      "\n",
      "Warning message:\n",
      "“package ‘Rsamtools’ was built under R version 3.6.2”\n",
      "Loading required package: GenomicAlignments\n",
      "\n",
      "Loading required package: SummarizedExperiment\n",
      "\n",
      "Warning message:\n",
      "“package ‘SummarizedExperiment’ was built under R version 3.6.2”\n",
      "Loading required package: DelayedArray\n",
      "\n",
      "Warning message:\n",
      "“package ‘DelayedArray’ was built under R version 3.6.3”\n",
      "Loading required package: matrixStats\n",
      "\n",
      "\n",
      "Attaching package: ‘matrixStats’\n",
      "\n",
      "\n",
      "The following objects are masked from ‘package:Biobase’:\n",
      "\n",
      "    anyMissing, rowMedians\n",
      "\n",
      "\n",
      "\n",
      "Attaching package: ‘DelayedArray’\n",
      "\n",
      "\n",
      "The following objects are masked from ‘package:matrixStats’:\n",
      "\n",
      "    colMaxs, colMins, colRanges, rowMaxs, rowMins, rowRanges\n",
      "\n",
      "\n",
      "The following objects are masked from ‘package:base’:\n",
      "\n",
      "    aperm, apply, rowsum\n",
      "\n",
      "\n"
     ]
    }
   ],
   "source": [
    "# Load ShortRead\n",
    "library(ShortRead)"
   ]
  },
  {
   "cell_type": "markdown",
   "metadata": {},
   "source": [
    "<h4>Exploring sequence quality</h4>"
   ]
  },
  {
   "cell_type": "markdown",
   "metadata": {},
   "source": [
    "<code>encoding(quality(fqsample))</code>"
   ]
  },
  {
   "cell_type": "markdown",
   "metadata": {},
   "source": [
    "<code>browseURL(report(qaSummary))</code>"
   ]
  },
  {
   "cell_type": "markdown",
   "metadata": {},
   "source": [
    "<code>qaSummary[[\"baseQuality\"]]</code>"
   ]
  },
  {
   "cell_type": "markdown",
   "metadata": {},
   "source": [
    "<h4>Nucleotide frequency plot</h4>"
   ]
  },
  {
   "cell_type": "code",
   "execution_count": null,
   "metadata": {},
   "outputs": [],
   "source": [
    "library(ShortRead)\n",
    "fqsample <- readFastq(dirPath = \"data\", \n",
    "                      pattern = \"SRR1971253.fastq\")"
   ]
  },
  {
   "cell_type": "code",
   "execution_count": null,
   "metadata": {},
   "outputs": [],
   "source": [
    "# extract reads                      \n",
    "abc <- alphabetByCycle(sread(fqsample))"
   ]
  },
  {
   "cell_type": "code",
   "execution_count": null,
   "metadata": {},
   "outputs": [],
   "source": [
    "# Transpose nucleotides A, C, G, T per column\n",
    "nucByCycle <- t(abc[1:4,]) "
   ]
  },
  {
   "cell_type": "code",
   "execution_count": null,
   "metadata": {},
   "outputs": [],
   "source": [
    "# Tidy dataset\n",
    "nucByCycle <- nucByCycle %>% \n",
    "  as.tibble() %>% # convert to tibble\n",
    "  mutate(cycle = 1:50) # add cycle numbers"
   ]
  },
  {
   "cell_type": "code",
   "execution_count": null,
   "metadata": {},
   "outputs": [],
   "source": [
    "# Create a line plot of cycle vs count\n",
    "nucByCycle %>% \n",
    "  # Gather the nucleotide letters in alphabet and get a new count column\n",
    "  gather(key = alphabet, value = count , -cycle) %>% \n",
    "  ggplot(aes(x = cycle, y =  count, color = alphabet)) +\n",
    "  geom_line(size = 0.5 ) +\n",
    "  labs(y = \"Frequency\") +\n",
    "  theme_bw() +\n",
    "  theme(panel.grid.major.x = element_blank())"
   ]
  },
  {
   "cell_type": "markdown",
   "metadata": {},
   "source": [
    "<h4>Custom filter function</h4>"
   ]
  },
  {
   "cell_type": "code",
   "execution_count": null,
   "metadata": {},
   "outputs": [],
   "source": [
    "# Load package ShortRead\n",
    "library(ShortRead)"
   ]
  },
  {
   "cell_type": "code",
   "execution_count": null,
   "metadata": {},
   "outputs": [],
   "source": [
    "# Check class of fqsample\n",
    "class(fqsample)"
   ]
  },
  {
   "cell_type": "code",
   "execution_count": null,
   "metadata": {},
   "outputs": [],
   "source": [
    "myStartFilter <- srFilter(function(x) substr(sread(x), 1, 5) == \"ATGCA\")"
   ]
  },
  {
   "cell_type": "code",
   "execution_count": null,
   "metadata": {},
   "outputs": [],
   "source": [
    "# Filter reads into selectedReads using myStartFilter\n",
    "selectedReads <- fqsample[myStartFilter(fqsample)]"
   ]
  },
  {
   "cell_type": "code",
   "execution_count": null,
   "metadata": {},
   "outputs": [],
   "source": [
    "# Check class of selectedReads\n",
    "class(selectedReads)"
   ]
  },
  {
   "cell_type": "code",
   "execution_count": null,
   "metadata": {},
   "outputs": [],
   "source": [
    "# Check detail of selectedReads\n",
    "detail(selectedReads)"
   ]
  },
  {
   "cell_type": "markdown",
   "metadata": {},
   "source": [
    "<h4>Removing duplicates</h4>"
   ]
  },
  {
   "cell_type": "code",
   "execution_count": null,
   "metadata": {},
   "outputs": [],
   "source": [
    "# Sample with duplicates of class: ShortReadQ\n",
    "dfqsample"
   ]
  },
  {
   "cell_type": "code",
   "execution_count": null,
   "metadata": {},
   "outputs": [],
   "source": [
    "# Get the reads from dfqsample\n",
    "mydReads <- sread(dfqsample)"
   ]
  },
  {
   "cell_type": "code",
   "execution_count": null,
   "metadata": {},
   "outputs": [],
   "source": [
    "# Counting duplicates\n",
    "table(srduplicated(mydReads))"
   ]
  },
  {
   "cell_type": "code",
   "execution_count": null,
   "metadata": {},
   "outputs": [],
   "source": [
    "mydReads[srduplicated(mydReads) == FALSE]"
   ]
  },
  {
   "cell_type": "markdown",
   "metadata": {},
   "source": [
    "<h4>polynFilter usage</h4>"
   ]
  },
  {
   "cell_type": "code",
   "execution_count": null,
   "metadata": {},
   "outputs": [],
   "source": [
    "# Check reads of fqsample\n",
    "sread(fqsample)"
   ]
  },
  {
   "cell_type": "code",
   "execution_count": null,
   "metadata": {},
   "outputs": [],
   "source": [
    "# Create myFil using polynFilter\n",
    "myFil <- polynFilter(threshold = 3, nuc = c(\"A\"))"
   ]
  },
  {
   "cell_type": "code",
   "execution_count": null,
   "metadata": {},
   "outputs": [],
   "source": [
    "# Apply my filter to fqsample \n",
    "filterCondition <- myFil(fqsample)"
   ]
  },
  {
   "cell_type": "code",
   "execution_count": null,
   "metadata": {},
   "outputs": [],
   "source": [
    "# Use myFil with fqsample\n",
    "filteredSequences <- fqsample[filterCondition]"
   ]
  },
  {
   "cell_type": "code",
   "execution_count": null,
   "metadata": {},
   "outputs": [],
   "source": [
    "# Check reads of filteredSequences\n",
    "sread(filteredSequences)"
   ]
  },
  {
   "cell_type": "markdown",
   "metadata": {},
   "source": [
    "<h3>Multiple assessment</h3>"
   ]
  },
  {
   "cell_type": "markdown",
   "metadata": {},
   "source": [
    "<h4>rqcQA</h4>"
   ]
  },
  {
   "cell_type": "code",
   "execution_count": null,
   "metadata": {},
   "outputs": [],
   "source": [
    "library(Rqc)\n",
    "files <- # get the full path of the files you want to assess\n",
    "qaRqc <- rqcQA(files)"
   ]
  },
  {
   "cell_type": "code",
   "execution_count": null,
   "metadata": {},
   "outputs": [],
   "source": [
    "# exploring \n",
    "qaRqcclass(qaRqc) # \"list\"\n",
    "names(qaRqc) # name of the input files"
   ]
  },
  {
   "cell_type": "code",
   "execution_count": null,
   "metadata": {},
   "outputs": [],
   "source": [
    "# for each \n",
    "fileqaRqc[1]\n",
    "# the class of the results is RqcResultSet"
   ]
  },
  {
   "cell_type": "markdown",
   "metadata": {},
   "source": [
    "<h4>rqcQA arguments</h4>"
   ]
  },
  {
   "cell_type": "code",
   "execution_count": null,
   "metadata": {},
   "outputs": [],
   "source": [
    "library(Rqc)\n",
    "\n",
    "# get the path of the files you want to assess\n",
    "files <- \"data/seq1.fq\"\"data/seq2.fq\"\"data/seq3.fq\"\"data/se4.fq\"\n",
    "\n",
    "qaRqc <- rqcQA(files, workers = 4))\n",
    "\n",
    "# sample of sequences\n",
    "set.seed(1111)\n",
    "\n",
    "qaRqc_sample <- rqcQA(files, workers = 4, sample = TRUE, n = 500))\n",
    "\n",
    "# paired-end files\n",
    "pfiles <- \"data/seq_11.fq\"\"data/seq1_2.fq\"\"data/seq2_1.fq\"\"data/seq2_2.fq\"\n",
    "\n",
    "qaRqc_paired <- rqcQA(pfiles, workers = 4, pair = c(1, 1, 2, 2)))"
   ]
  },
  {
   "cell_type": "markdown",
   "metadata": {},
   "source": [
    "<h4>rqcReport and rqcResultSet</h4>"
   ]
  },
  {
   "cell_type": "code",
   "execution_count": null,
   "metadata": {},
   "outputs": [],
   "source": [
    "# create a report\n",
    "reportFile <- rqcReport(qaRqc, templateFile = \"myReport.Rmd\")\n",
    "\n",
    "browseURL(reportFile)\n",
    "\n",
    "#The class of qaRqc is rqcResultSet\n",
    "methods(class = \"RqcResultSet\")"
   ]
  },
  {
   "cell_type": "markdown",
   "metadata": {},
   "source": [
    "<h4>perFileInformation</h4>"
   ]
  },
  {
   "cell_type": "code",
   "execution_count": null,
   "metadata": {},
   "outputs": [],
   "source": [
    "qaRqc <- rqcQA(files, workers = 4))\n",
    "perFileInformation(qaRqc)"
   ]
  }
 ],
 "metadata": {
  "kernelspec": {
   "display_name": "R",
   "language": "R",
   "name": "ir"
  },
  "language_info": {
   "codemirror_mode": "r",
   "file_extension": ".r",
   "mimetype": "text/x-r-source",
   "name": "R",
   "pygments_lexer": "r",
   "version": "3.6.1"
  }
 },
 "nbformat": 4,
 "nbformat_minor": 2
}
